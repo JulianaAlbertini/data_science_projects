{
  "nbformat": 4,
  "nbformat_minor": 0,
  "metadata": {
    "colab": {
      "name": "nyc.ipynb",
      "provenance": [],
      "collapsed_sections": []
    },
    "kernelspec": {
      "display_name": "Python 3",
      "name": "python3"
    }
  },
  "cells": [
    {
      "cell_type": "code",
      "metadata": {
        "id": "bTCMZYJT4pzf"
      },
      "source": [
        "import pandas as pd\n",
        "import numpy as np\n",
        "import seaborn as sns\n",
        "import matplotlib.pyplot as plt\n",
        "import csv\n",
        "import warnings\n",
        "warnings.filterwarnings(\"ignore\")"
      ],
      "execution_count": null,
      "outputs": []
    },
    {
      "cell_type": "markdown",
      "metadata": {
        "id": "Q62OzQ88VzQ7"
      },
      "source": [
        "## Uploading NYC Listings Data"
      ]
    },
    {
      "cell_type": "code",
      "metadata": {
        "colab": {
          "base_uri": "https://localhost:8080/",
          "height": 389
        },
        "id": "EuhFTbfI5OoN",
        "outputId": "74a39335-7d26-4e47-a8b0-aa36000d01c9"
      },
      "source": [
        "data = pd.read_csv(\"listings.csv\")\n",
        "data.head(3)"
      ],
      "execution_count": null,
      "outputs": [
        {
          "output_type": "execute_result",
          "data": {
            "text/html": [
              "<div>\n",
              "<style scoped>\n",
              "    .dataframe tbody tr th:only-of-type {\n",
              "        vertical-align: middle;\n",
              "    }\n",
              "\n",
              "    .dataframe tbody tr th {\n",
              "        vertical-align: top;\n",
              "    }\n",
              "\n",
              "    .dataframe thead th {\n",
              "        text-align: right;\n",
              "    }\n",
              "</style>\n",
              "<table border=\"1\" class=\"dataframe\">\n",
              "  <thead>\n",
              "    <tr style=\"text-align: right;\">\n",
              "      <th></th>\n",
              "      <th>id</th>\n",
              "      <th>listing_url</th>\n",
              "      <th>scrape_id</th>\n",
              "      <th>last_scraped</th>\n",
              "      <th>name</th>\n",
              "      <th>description</th>\n",
              "      <th>neighborhood_overview</th>\n",
              "      <th>picture_url</th>\n",
              "      <th>host_id</th>\n",
              "      <th>host_url</th>\n",
              "      <th>host_name</th>\n",
              "      <th>host_since</th>\n",
              "      <th>host_location</th>\n",
              "      <th>host_about</th>\n",
              "      <th>host_response_time</th>\n",
              "      <th>host_response_rate</th>\n",
              "      <th>host_acceptance_rate</th>\n",
              "      <th>host_is_superhost</th>\n",
              "      <th>host_thumbnail_url</th>\n",
              "      <th>host_picture_url</th>\n",
              "      <th>host_neighbourhood</th>\n",
              "      <th>host_listings_count</th>\n",
              "      <th>host_total_listings_count</th>\n",
              "      <th>host_verifications</th>\n",
              "      <th>host_has_profile_pic</th>\n",
              "      <th>host_identity_verified</th>\n",
              "      <th>neighbourhood</th>\n",
              "      <th>neighbourhood_cleansed</th>\n",
              "      <th>neighbourhood_group_cleansed</th>\n",
              "      <th>latitude</th>\n",
              "      <th>longitude</th>\n",
              "      <th>property_type</th>\n",
              "      <th>room_type</th>\n",
              "      <th>accommodates</th>\n",
              "      <th>bathrooms</th>\n",
              "      <th>bathrooms_text</th>\n",
              "      <th>bedrooms</th>\n",
              "      <th>beds</th>\n",
              "      <th>amenities</th>\n",
              "      <th>price</th>\n",
              "      <th>minimum_nights</th>\n",
              "      <th>maximum_nights</th>\n",
              "      <th>minimum_minimum_nights</th>\n",
              "      <th>maximum_minimum_nights</th>\n",
              "      <th>minimum_maximum_nights</th>\n",
              "      <th>maximum_maximum_nights</th>\n",
              "      <th>minimum_nights_avg_ntm</th>\n",
              "      <th>maximum_nights_avg_ntm</th>\n",
              "      <th>calendar_updated</th>\n",
              "      <th>has_availability</th>\n",
              "      <th>availability_30</th>\n",
              "      <th>availability_60</th>\n",
              "      <th>availability_90</th>\n",
              "      <th>availability_365</th>\n",
              "      <th>calendar_last_scraped</th>\n",
              "      <th>number_of_reviews</th>\n",
              "      <th>number_of_reviews_ltm</th>\n",
              "      <th>number_of_reviews_l30d</th>\n",
              "      <th>first_review</th>\n",
              "      <th>last_review</th>\n",
              "      <th>review_scores_rating</th>\n",
              "      <th>review_scores_accuracy</th>\n",
              "      <th>review_scores_cleanliness</th>\n",
              "      <th>review_scores_checkin</th>\n",
              "      <th>review_scores_communication</th>\n",
              "      <th>review_scores_location</th>\n",
              "      <th>review_scores_value</th>\n",
              "      <th>license</th>\n",
              "      <th>instant_bookable</th>\n",
              "      <th>calculated_host_listings_count</th>\n",
              "      <th>calculated_host_listings_count_entire_homes</th>\n",
              "      <th>calculated_host_listings_count_private_rooms</th>\n",
              "      <th>calculated_host_listings_count_shared_rooms</th>\n",
              "      <th>reviews_per_month</th>\n",
              "    </tr>\n",
              "  </thead>\n",
              "  <tbody>\n",
              "    <tr>\n",
              "      <th>0</th>\n",
              "      <td>2595</td>\n",
              "      <td>https://www.airbnb.com/rooms/2595</td>\n",
              "      <td>2.020100e+13</td>\n",
              "      <td>10/7/20</td>\n",
              "      <td>Skylit Midtown Castle</td>\n",
              "      <td>Beautiful, spacious skylit studio in the heart...</td>\n",
              "      <td>Centrally located in the heart of Manhattan ju...</td>\n",
              "      <td>https://a0.muscache.com/pictures/f0813a11-40b2...</td>\n",
              "      <td>2845</td>\n",
              "      <td>https://www.airbnb.com/users/show/2845</td>\n",
              "      <td>Jennifer</td>\n",
              "      <td>9/9/08</td>\n",
              "      <td>New York, New York, United States</td>\n",
              "      <td>A New Yorker since 2000! My passion is creatin...</td>\n",
              "      <td>within a day</td>\n",
              "      <td>70%</td>\n",
              "      <td>25%</td>\n",
              "      <td>f</td>\n",
              "      <td>https://a0.muscache.com/im/pictures/user/50fc5...</td>\n",
              "      <td>https://a0.muscache.com/im/pictures/user/50fc5...</td>\n",
              "      <td>Midtown</td>\n",
              "      <td>6.0</td>\n",
              "      <td>6.0</td>\n",
              "      <td>['email', 'phone', 'reviews', 'offline_governm...</td>\n",
              "      <td>t</td>\n",
              "      <td>t</td>\n",
              "      <td>New York, United States</td>\n",
              "      <td>Midtown</td>\n",
              "      <td>Manhattan</td>\n",
              "      <td>40.75362</td>\n",
              "      <td>-73.98377</td>\n",
              "      <td>Entire apartment</td>\n",
              "      <td>Entire home/apt</td>\n",
              "      <td>2</td>\n",
              "      <td>NaN</td>\n",
              "      <td>1 bath</td>\n",
              "      <td>NaN</td>\n",
              "      <td>1.0</td>\n",
              "      <td>[\"Hot water\", \"Stove\", \"Extra pillows and blan...</td>\n",
              "      <td>$175.00</td>\n",
              "      <td>3</td>\n",
              "      <td>1125</td>\n",
              "      <td>3.0</td>\n",
              "      <td>3.0</td>\n",
              "      <td>1125.0</td>\n",
              "      <td>1125.0</td>\n",
              "      <td>3.0</td>\n",
              "      <td>1125.0</td>\n",
              "      <td>NaN</td>\n",
              "      <td>t</td>\n",
              "      <td>30</td>\n",
              "      <td>60</td>\n",
              "      <td>90</td>\n",
              "      <td>365</td>\n",
              "      <td>10/7/20</td>\n",
              "      <td>48</td>\n",
              "      <td>1</td>\n",
              "      <td>0</td>\n",
              "      <td>11/21/09</td>\n",
              "      <td>11/4/19</td>\n",
              "      <td>94.0</td>\n",
              "      <td>9.0</td>\n",
              "      <td>9.0</td>\n",
              "      <td>10.0</td>\n",
              "      <td>10.0</td>\n",
              "      <td>10.0</td>\n",
              "      <td>9.0</td>\n",
              "      <td>NaN</td>\n",
              "      <td>f</td>\n",
              "      <td>2</td>\n",
              "      <td>2</td>\n",
              "      <td>0</td>\n",
              "      <td>0</td>\n",
              "      <td>0.36</td>\n",
              "    </tr>\n",
              "    <tr>\n",
              "      <th>1</th>\n",
              "      <td>3831</td>\n",
              "      <td>https://www.airbnb.com/rooms/3831</td>\n",
              "      <td>2.020100e+13</td>\n",
              "      <td>10/9/20</td>\n",
              "      <td>Whole flr w/private bdrm, bath &amp; kitchen(pls r...</td>\n",
              "      <td>Enjoy 500 s.f. top floor in 1899 brownstone, w...</td>\n",
              "      <td>Just the right mix of urban center and local n...</td>\n",
              "      <td>https://a0.muscache.com/pictures/e49999c2-9fd5...</td>\n",
              "      <td>4869</td>\n",
              "      <td>https://www.airbnb.com/users/show/4869</td>\n",
              "      <td>LisaRoxanne</td>\n",
              "      <td>12/7/08</td>\n",
              "      <td>New York, New York, United States</td>\n",
              "      <td>Laid-back Native New Yorker (formerly bi-coast...</td>\n",
              "      <td>within an hour</td>\n",
              "      <td>98%</td>\n",
              "      <td>96%</td>\n",
              "      <td>f</td>\n",
              "      <td>https://a0.muscache.com/im/users/4869/profile_...</td>\n",
              "      <td>https://a0.muscache.com/im/users/4869/profile_...</td>\n",
              "      <td>Clinton Hill</td>\n",
              "      <td>1.0</td>\n",
              "      <td>1.0</td>\n",
              "      <td>['email', 'phone', 'reviews', 'offline_governm...</td>\n",
              "      <td>t</td>\n",
              "      <td>t</td>\n",
              "      <td>Brooklyn, New York, United States</td>\n",
              "      <td>Clinton Hill</td>\n",
              "      <td>Brooklyn</td>\n",
              "      <td>40.68514</td>\n",
              "      <td>-73.95976</td>\n",
              "      <td>Entire guest suite</td>\n",
              "      <td>Entire home/apt</td>\n",
              "      <td>3</td>\n",
              "      <td>NaN</td>\n",
              "      <td>1 bath</td>\n",
              "      <td>1.0</td>\n",
              "      <td>3.0</td>\n",
              "      <td>[\"Hot water\", \"Stove\", \"Free parking on premis...</td>\n",
              "      <td>$76.00</td>\n",
              "      <td>1</td>\n",
              "      <td>730</td>\n",
              "      <td>1.0</td>\n",
              "      <td>2.0</td>\n",
              "      <td>1125.0</td>\n",
              "      <td>1125.0</td>\n",
              "      <td>1.0</td>\n",
              "      <td>1125.0</td>\n",
              "      <td>NaN</td>\n",
              "      <td>t</td>\n",
              "      <td>2</td>\n",
              "      <td>2</td>\n",
              "      <td>2</td>\n",
              "      <td>2</td>\n",
              "      <td>10/9/20</td>\n",
              "      <td>354</td>\n",
              "      <td>70</td>\n",
              "      <td>3</td>\n",
              "      <td>9/30/14</td>\n",
              "      <td>9/20/20</td>\n",
              "      <td>89.0</td>\n",
              "      <td>8.0</td>\n",
              "      <td>9.0</td>\n",
              "      <td>9.0</td>\n",
              "      <td>9.0</td>\n",
              "      <td>9.0</td>\n",
              "      <td>9.0</td>\n",
              "      <td>NaN</td>\n",
              "      <td>f</td>\n",
              "      <td>1</td>\n",
              "      <td>1</td>\n",
              "      <td>0</td>\n",
              "      <td>0</td>\n",
              "      <td>4.82</td>\n",
              "    </tr>\n",
              "    <tr>\n",
              "      <th>2</th>\n",
              "      <td>5121</td>\n",
              "      <td>https://www.airbnb.com/rooms/5121</td>\n",
              "      <td>2.020100e+13</td>\n",
              "      <td>10/9/20</td>\n",
              "      <td>BlissArtsSpace!</td>\n",
              "      <td>&lt;b&gt;The space&lt;/b&gt;&lt;br /&gt;HELLO EVERYONE AND THANK...</td>\n",
              "      <td>NaN</td>\n",
              "      <td>https://a0.muscache.com/pictures/2090980c-b68e...</td>\n",
              "      <td>7356</td>\n",
              "      <td>https://www.airbnb.com/users/show/7356</td>\n",
              "      <td>Garon</td>\n",
              "      <td>2/3/09</td>\n",
              "      <td>New York, New York, United States</td>\n",
              "      <td>I am an artist(painter, filmmaker) and curato...</td>\n",
              "      <td>NaN</td>\n",
              "      <td>NaN</td>\n",
              "      <td>100%</td>\n",
              "      <td>f</td>\n",
              "      <td>https://a0.muscache.com/im/pictures/user/72a61...</td>\n",
              "      <td>https://a0.muscache.com/im/pictures/user/72a61...</td>\n",
              "      <td>Bedford-Stuyvesant</td>\n",
              "      <td>1.0</td>\n",
              "      <td>1.0</td>\n",
              "      <td>['email', 'phone', 'facebook', 'reviews', 'off...</td>\n",
              "      <td>t</td>\n",
              "      <td>t</td>\n",
              "      <td>NaN</td>\n",
              "      <td>Bedford-Stuyvesant</td>\n",
              "      <td>Brooklyn</td>\n",
              "      <td>40.68688</td>\n",
              "      <td>-73.95596</td>\n",
              "      <td>Private room in apartment</td>\n",
              "      <td>Private room</td>\n",
              "      <td>2</td>\n",
              "      <td>NaN</td>\n",
              "      <td>NaN</td>\n",
              "      <td>1.0</td>\n",
              "      <td>1.0</td>\n",
              "      <td>[\"Wifi\", \"Air conditioning\", \"Heating\", \"Kitch...</td>\n",
              "      <td>$60.00</td>\n",
              "      <td>29</td>\n",
              "      <td>730</td>\n",
              "      <td>29.0</td>\n",
              "      <td>29.0</td>\n",
              "      <td>730.0</td>\n",
              "      <td>730.0</td>\n",
              "      <td>29.0</td>\n",
              "      <td>730.0</td>\n",
              "      <td>NaN</td>\n",
              "      <td>t</td>\n",
              "      <td>2</td>\n",
              "      <td>2</td>\n",
              "      <td>2</td>\n",
              "      <td>2</td>\n",
              "      <td>10/9/20</td>\n",
              "      <td>50</td>\n",
              "      <td>1</td>\n",
              "      <td>0</td>\n",
              "      <td>5/28/09</td>\n",
              "      <td>12/2/19</td>\n",
              "      <td>90.0</td>\n",
              "      <td>8.0</td>\n",
              "      <td>8.0</td>\n",
              "      <td>10.0</td>\n",
              "      <td>10.0</td>\n",
              "      <td>9.0</td>\n",
              "      <td>9.0</td>\n",
              "      <td>NaN</td>\n",
              "      <td>f</td>\n",
              "      <td>1</td>\n",
              "      <td>0</td>\n",
              "      <td>1</td>\n",
              "      <td>0</td>\n",
              "      <td>0.36</td>\n",
              "    </tr>\n",
              "  </tbody>\n",
              "</table>\n",
              "</div>"
            ],
            "text/plain": [
              "     id  ... reviews_per_month\n",
              "0  2595  ...              0.36\n",
              "1  3831  ...              4.82\n",
              "2  5121  ...              0.36\n",
              "\n",
              "[3 rows x 74 columns]"
            ]
          },
          "metadata": {
            "tags": []
          },
          "execution_count": 4
        }
      ]
    },
    {
      "cell_type": "markdown",
      "metadata": {
        "id": "o7kx2y2iV885"
      },
      "source": [
        "## Data Cleaning"
      ]
    },
    {
      "cell_type": "markdown",
      "metadata": {
        "id": "Ecm0tsyeWAOQ"
      },
      "source": [
        "Number of missing values in each column"
      ]
    },
    {
      "cell_type": "code",
      "metadata": {
        "id": "11N8qAqu6GtW",
        "colab": {
          "base_uri": "https://localhost:8080/"
        },
        "outputId": "9d43099d-36f2-4de5-f9d4-c8eef5a59be9"
      },
      "source": [
        "#Number of missing values in each column\n",
        "for col in data.columns:\n",
        "    print(col + ', Missing vals:', len(data[col][data[col].isnull()]))"
      ],
      "execution_count": null,
      "outputs": [
        {
          "output_type": "stream",
          "text": [
            "id, Missing vals: 0\n",
            "listing_url, Missing vals: 0\n",
            "scrape_id, Missing vals: 0\n",
            "last_scraped, Missing vals: 0\n",
            "name, Missing vals: 16\n",
            "description, Missing vals: 1281\n",
            "neighborhood_overview, Missing vals: 16459\n",
            "picture_url, Missing vals: 0\n",
            "host_id, Missing vals: 0\n",
            "host_url, Missing vals: 0\n",
            "host_name, Missing vals: 17\n",
            "host_since, Missing vals: 17\n",
            "host_location, Missing vals: 142\n",
            "host_about, Missing vals: 17874\n",
            "host_response_time, Missing vals: 23079\n",
            "host_response_rate, Missing vals: 23079\n",
            "host_acceptance_rate, Missing vals: 16865\n",
            "host_is_superhost, Missing vals: 17\n",
            "host_thumbnail_url, Missing vals: 17\n",
            "host_picture_url, Missing vals: 17\n",
            "host_neighbourhood, Missing vals: 7280\n",
            "host_listings_count, Missing vals: 17\n",
            "host_total_listings_count, Missing vals: 17\n",
            "host_verifications, Missing vals: 0\n",
            "host_has_profile_pic, Missing vals: 17\n",
            "host_identity_verified, Missing vals: 17\n",
            "neighbourhood, Missing vals: 16458\n",
            "neighbourhood_cleansed, Missing vals: 0\n",
            "neighbourhood_group_cleansed, Missing vals: 0\n",
            "latitude, Missing vals: 0\n",
            "longitude, Missing vals: 0\n",
            "property_type, Missing vals: 0\n",
            "room_type, Missing vals: 0\n",
            "accommodates, Missing vals: 0\n",
            "bathrooms, Missing vals: 44666\n",
            "bathrooms_text, Missing vals: 90\n",
            "bedrooms, Missing vals: 4259\n",
            "beds, Missing vals: 513\n",
            "amenities, Missing vals: 0\n",
            "price, Missing vals: 0\n",
            "minimum_nights, Missing vals: 0\n",
            "maximum_nights, Missing vals: 0\n",
            "minimum_minimum_nights, Missing vals: 6\n",
            "maximum_minimum_nights, Missing vals: 6\n",
            "minimum_maximum_nights, Missing vals: 6\n",
            "maximum_maximum_nights, Missing vals: 6\n",
            "minimum_nights_avg_ntm, Missing vals: 6\n",
            "maximum_nights_avg_ntm, Missing vals: 6\n",
            "calendar_updated, Missing vals: 44666\n",
            "has_availability, Missing vals: 0\n",
            "availability_30, Missing vals: 0\n",
            "availability_60, Missing vals: 0\n",
            "availability_90, Missing vals: 0\n",
            "availability_365, Missing vals: 0\n",
            "calendar_last_scraped, Missing vals: 0\n",
            "number_of_reviews, Missing vals: 0\n",
            "number_of_reviews_ltm, Missing vals: 0\n",
            "number_of_reviews_l30d, Missing vals: 0\n",
            "first_review, Missing vals: 10517\n",
            "last_review, Missing vals: 10517\n",
            "review_scores_rating, Missing vals: 11564\n",
            "review_scores_accuracy, Missing vals: 11596\n",
            "review_scores_cleanliness, Missing vals: 11583\n",
            "review_scores_checkin, Missing vals: 11611\n",
            "review_scores_communication, Missing vals: 11591\n",
            "review_scores_location, Missing vals: 11616\n",
            "review_scores_value, Missing vals: 11615\n",
            "license, Missing vals: 44666\n",
            "instant_bookable, Missing vals: 0\n",
            "calculated_host_listings_count, Missing vals: 0\n",
            "calculated_host_listings_count_entire_homes, Missing vals: 0\n",
            "calculated_host_listings_count_private_rooms, Missing vals: 0\n",
            "calculated_host_listings_count_shared_rooms, Missing vals: 0\n",
            "reviews_per_month, Missing vals: 10517\n"
          ],
          "name": "stdout"
        }
      ]
    },
    {
      "cell_type": "markdown",
      "metadata": {
        "id": "CxYhIuygWI6j"
      },
      "source": [
        "#### Droping columns for selective analysis:"
      ]
    },
    {
      "cell_type": "code",
      "metadata": {
        "id": "QDyowotc8BAM"
      },
      "source": [
        "drop_cols = ['listing_url', 'scrape_id', 'last_scraped','neighborhood_overview','neighbourhood','neighbourhood_cleansed','picture_url', 'host_url','host_name','host_about','host_location','host_location',\n",
        "             'host_thumbnail_url','host_response_time','host_listings_count','host_picture_url','host_neighbourhood','minimum_minimum_nights',\n",
        "             'maximum_minimum_nights','minimum_maximum_nights','maximum_maximum_nights','minimum_nights_avg_ntm','maximum_nights_avg_ntm','calendar_last_scraped','calendar_updated',\n",
        "             'first_review','last_review','license','calculated_host_listings_count_entire_homes','calculated_host_listings_count_private_rooms','calculated_host_listings_count_shared_rooms',\n",
        "             'has_availability','host_acceptance_rate','number_of_reviews_ltm','number_of_reviews_l30d','calculated_host_listings_count','property_type']\n",
        "df = data.drop(drop_cols, axis=1)\n",
        "df.columns"
      ],
      "execution_count": null,
      "outputs": []
    },
    {
      "cell_type": "markdown",
      "metadata": {
        "id": "x-6SguZGWdWo"
      },
      "source": [
        "#### Dropping null rows:\n",
        "The following columns only have 17 nulls, so we will be dropping the null rows of the columns. We are dropping the null rows instead of entire columns because they are features of interest"
      ]
    },
    {
      "cell_type": "code",
      "metadata": {
        "id": "shBdvKDmH_wa"
      },
      "source": [
        "#Dropping null rows\n",
        "df.dropna(subset=['host_since','host_total_listings_count','host_is_superhost','host_has_profile_pic','host_identity_verified','name'], inplace=True)\n",
        " "
      ],
      "execution_count": null,
      "outputs": []
    },
    {
      "cell_type": "markdown",
      "metadata": {
        "id": "lqfMmoUeWqBO"
      },
      "source": [
        "#### Missing Data:"
      ]
    },
    {
      "cell_type": "markdown",
      "metadata": {
        "id": "OOgY4v1ZWwbc"
      },
      "source": [
        "Airbnb Listing Description"
      ]
    },
    {
      "cell_type": "code",
      "metadata": {
        "id": "wEbXBCDNgF_Z"
      },
      "source": [
        "#Replacing null listing descriptions with empty string\n",
        "\n",
        "df['description']=df['description'].replace(np.nan, '')"
      ],
      "execution_count": null,
      "outputs": []
    },
    {
      "cell_type": "markdown",
      "metadata": {
        "id": "HHN9LMMwXOkL"
      },
      "source": [
        "###### Beds\n"
      ]
    },
    {
      "cell_type": "code",
      "metadata": {
        "colab": {
          "base_uri": "https://localhost:8080/",
          "height": 201
        },
        "id": "UDPrLfEFXU5W",
        "outputId": "d6e62c4e-ab76-403f-f123-f0b5c2aa6b2a"
      },
      "source": [
        "#Replacing nulls in 'beds' by filling with median value\n",
        "\n",
        "df['beds'].fillna(df['beds'].median(), inplace=True)"
      ],
      "execution_count": 1,
      "outputs": [
        {
          "output_type": "error",
          "ename": "NameError",
          "evalue": "ignored",
          "traceback": [
            "\u001b[0;31m---------------------------------------------------------------------------\u001b[0m",
            "\u001b[0;31mNameError\u001b[0m                                 Traceback (most recent call last)",
            "\u001b[0;32m<ipython-input-1-36dfe2be77fa>\u001b[0m in \u001b[0;36m<module>\u001b[0;34m()\u001b[0m\n\u001b[1;32m      1\u001b[0m \u001b[0;31m#Replacing nulls in 'beds' by filling with median value\u001b[0m\u001b[0;34m\u001b[0m\u001b[0;34m\u001b[0m\u001b[0;34m\u001b[0m\u001b[0m\n\u001b[1;32m      2\u001b[0m \u001b[0;34m\u001b[0m\u001b[0m\n\u001b[0;32m----> 3\u001b[0;31m \u001b[0mdf\u001b[0m\u001b[0;34m[\u001b[0m\u001b[0;34m'beds'\u001b[0m\u001b[0;34m]\u001b[0m\u001b[0;34m.\u001b[0m\u001b[0mfillna\u001b[0m\u001b[0;34m(\u001b[0m\u001b[0mdf\u001b[0m\u001b[0;34m[\u001b[0m\u001b[0;34m'beds'\u001b[0m\u001b[0;34m]\u001b[0m\u001b[0;34m.\u001b[0m\u001b[0mmedian\u001b[0m\u001b[0;34m(\u001b[0m\u001b[0;34m)\u001b[0m\u001b[0;34m,\u001b[0m \u001b[0minplace\u001b[0m\u001b[0;34m=\u001b[0m\u001b[0;32mTrue\u001b[0m\u001b[0;34m)\u001b[0m\u001b[0;34m\u001b[0m\u001b[0;34m\u001b[0m\u001b[0m\n\u001b[0m",
            "\u001b[0;31mNameError\u001b[0m: name 'df' is not defined"
          ]
        }
      ]
    },
    {
      "cell_type": "markdown",
      "metadata": {
        "id": "9dWuL89sXXzG"
      },
      "source": [
        "###### Bedrooms"
      ]
    },
    {
      "cell_type": "code",
      "metadata": {
        "id": "9Q75tK-2XYoZ"
      },
      "source": [
        "#Replacing nulls in 'bedrooms' by filling with median value\n",
        "\n",
        "df['bedrooms'].fillna(df['bedrooms'].median(), inplace=True)"
      ],
      "execution_count": null,
      "outputs": []
    },
    {
      "cell_type": "markdown",
      "metadata": {
        "id": "38Z1APgbXpMn"
      },
      "source": [
        "#### Data Transformation:"
      ]
    },
    {
      "cell_type": "markdown",
      "metadata": {
        "id": "DlpUP6mYXuKp"
      },
      "source": [
        "Host is superhost, host has profile_pic, host identity verified, instant bookable"
      ]
    },
    {
      "cell_type": "code",
      "metadata": {
        "id": "ukbrAxmCt_0K"
      },
      "source": [
        "#Replacing host is superhost, host has profile_pic, host identity verified, instant bookable columns (boolean columns) with 0 and 1\n",
        "\n",
        "df.replace({'f': 0, 't': 1}, inplace=True)"
      ],
      "execution_count": null,
      "outputs": []
    },
    {
      "cell_type": "markdown",
      "metadata": {
        "id": "IgUj8DhKYV3t"
      },
      "source": [
        "###### Host Since"
      ]
    },
    {
      "cell_type": "code",
      "metadata": {
        "id": "Lh2DBuoAYIvX"
      },
      "source": [
        "#Reformatting 'host_since' date\n",
        "\n",
        "df.host_since = pd.to_datetime(df['host_since'])"
      ],
      "execution_count": null,
      "outputs": []
    },
    {
      "cell_type": "markdown",
      "metadata": {
        "id": "3_CCZm3LYaxl"
      },
      "source": [
        "###### Price"
      ]
    },
    {
      "cell_type": "code",
      "metadata": {
        "id": "7m06Y8FtYIl-"
      },
      "source": [
        "#Reformat 'price' into integer type (removing $ and converting column into int type)\n",
        "\n",
        "df['price'] = df['price'].str.replace('[\\$\\,]|\\.\\d*', '').astype(int)"
      ],
      "execution_count": null,
      "outputs": []
    },
    {
      "cell_type": "markdown",
      "metadata": {
        "id": "0zF1q7PaYfHR"
      },
      "source": [
        "###### Bathrooms"
      ]
    },
    {
      "cell_type": "code",
      "metadata": {
        "id": "XhV9B9M6YIaj"
      },
      "source": [
        "#Reformat 'bathrooms' using 'bathrooms_text' to represent number of bathrooms as float instead of string\n",
        "\n",
        "df['bathrooms'] = df['bathrooms_text'].str.extract(r'(\\d*\\.?\\d+)?').astype('float')\n",
        "\n",
        "#Replace nulls with median number of bathrooms\n",
        "\n",
        "df['bathrooms'].fillna(df['bathrooms'].median(), inplace=True)\n",
        "\n",
        "#Drop 'bathrooms_text' column\n",
        "\n",
        "df.drop(['bathrooms_text'], axis=1,inplace=True)"
      ],
      "execution_count": null,
      "outputs": []
    },
    {
      "cell_type": "markdown",
      "metadata": {
        "id": "cmQBR3raYhLl"
      },
      "source": [
        "###### Host response rate"
      ]
    },
    {
      "cell_type": "code",
      "metadata": {
        "id": "lL_GtFtEYIUg"
      },
      "source": [
        "#Reformat respose rate into proportion represented by decimal \n",
        "df['host_response_rate'] = df['host_response_rate'].str.replace(r'%', r'.0').astype('float') / 100.0\n",
        "\n",
        "#Group host response rates into bins\n",
        "df[\"host_response_rate\"]=pd.cut(df[\"host_response_rate\"],bins=[0, .25, .50, .75, .99,1],labels=['0-25%', '26-50%','51-75%', '76-99%', '100%'])\n",
        "df.replace({'0-25%': 1, '26-50%': 2,'51-75%':3,'76-99%':4,'100%':5},inplace=True)\n",
        "\n",
        "#Replace nulls with median bin value\n",
        "df['host_response_rate']=df['host_response_rate'].replace(np.nan, 5)"
      ],
      "execution_count": null,
      "outputs": []
    },
    {
      "cell_type": "markdown",
      "metadata": {
        "id": "ZffXHpH4YlHS"
      },
      "source": [
        "#### Feature Creation:"
      ]
    },
    {
      "cell_type": "markdown",
      "metadata": {
        "id": "cCflz8v-Yk2U"
      },
      "source": [
        "###### Days of being host"
      ]
    },
    {
      "cell_type": "code",
      "metadata": {
        "id": "MYTYS41BYIJg"
      },
      "source": [
        "#Length of time the individual has been a host\n",
        "df['days_of_being_host'] = (pd.datetime(2020, 11, 22) - df['host_since']).astype('timedelta64[D]')\n",
        "\n",
        "#Replace nulls in 'days_of_being_host' column with median value\n",
        "df['days_of_being_host'].fillna(df['days_of_being_host'].median(), inplace=True)"
      ],
      "execution_count": null,
      "outputs": []
    },
    {
      "cell_type": "markdown",
      "metadata": {
        "id": "v-HJmCSSYtb0"
      },
      "source": [
        "##### Length of amenities list"
      ]
    },
    {
      "cell_type": "code",
      "metadata": {
        "id": "-GIhTZJaYIEp"
      },
      "source": [
        "#Creating column for length of amenitites list\n",
        "df['length_of_amenities_list'] = df['amenities'].str.len()"
      ],
      "execution_count": null,
      "outputs": []
    },
    {
      "cell_type": "markdown",
      "metadata": {
        "id": "3_kVSHp_Yw9I"
      },
      "source": [
        "##### Length of listing description"
      ]
    },
    {
      "cell_type": "code",
      "metadata": {
        "id": "S4TFp2XdYH7b"
      },
      "source": [
        "#Creating column for length of description\n",
        "df['length_of_description'] = df['description'].str.len()"
      ],
      "execution_count": null,
      "outputs": []
    },
    {
      "cell_type": "markdown",
      "metadata": {
        "id": "6aSWtyrTYvAp"
      },
      "source": [
        "##### Numeric column for Neighborhood Groups"
      ]
    },
    {
      "cell_type": "code",
      "metadata": {
        "id": "8Gj-xZ6NYHzd"
      },
      "source": [
        "#Creating column to numerically represent each neighbourhood\n",
        "df['neighbourhood_group_numeric'] = df['neighbourhood_group_cleansed'].map({'Manhattan':5,'Brooklyn':4,'Queens':3,'Staten Island':2,'Bronx':1}).astype('int')\n"
      ],
      "execution_count": null,
      "outputs": []
    },
    {
      "cell_type": "markdown",
      "metadata": {
        "id": "MsBivVqiZFv8"
      },
      "source": [
        "### Data Visualization and Analysis:"
      ]
    },
    {
      "cell_type": "code",
      "metadata": {
        "id": "x5WYdCfKYHrn"
      },
      "source": [
        "print(\"Average price of Airbnb listing in NYC: \" + \"$\" + str(np.mean(df['price'])))\n",
        "print(\"Lowest price of Airbnb listing in NYC: \" + \"$\" + str(min(df['price'])))\n",
        "print(\"Highest price of Airbnb listing in NYC: \" + \"$\" + str(max(df['price'])))"
      ],
      "execution_count": null,
      "outputs": []
    },
    {
      "cell_type": "code",
      "metadata": {
        "id": "Np_f2c6iYHj6"
      },
      "source": [
        "print(\"Average accomodated persons: \" + str(np.mean(df['accommodates'])))\n",
        "print(\"Average host response rate: \" + str(np.mean(df['host_response_rate'])))"
      ],
      "execution_count": null,
      "outputs": []
    },
    {
      "cell_type": "code",
      "metadata": {
        "id": "3HEjzL0cYHcv"
      },
      "source": [
        "#Top 20 most expensive NYC listings\n",
        "top_20 = df.sort_values('price',ascending=False).head(20)\n",
        "top_20"
      ],
      "execution_count": null,
      "outputs": []
    },
    {
      "cell_type": "markdown",
      "metadata": {
        "id": "vBBzYrBlZOmk"
      },
      "source": [
        "#### Correlation:"
      ]
    },
    {
      "cell_type": "code",
      "metadata": {
        "id": "AHI2v9O96_oT"
      },
      "source": [
        "corr = df.corr()\n",
        "corr = (corr)\n",
        "corr['review_scores_rating'].sort_values(ascending=False)\n"
      ],
      "execution_count": null,
      "outputs": []
    },
    {
      "cell_type": "markdown",
      "metadata": {
        "id": "PKAfqPByZUcH"
      },
      "source": [
        "###### Observations\n",
        "Top 2 features that correlate with review scores rating (including other review score categories): review scores value (score on booking's monetary value) & review scores accuracy (score on accuracy of property's description)\n",
        "\n",
        "Top 3 features that correlate with review scores rating (excluding other review score categories): host is superhost, length of amenities list, & days of being host\n"
      ]
    },
    {
      "cell_type": "markdown",
      "metadata": {
        "id": "nqtZyqCvZawD"
      },
      "source": [
        "###### Takeaways\n",
        "\n",
        "Because a host's overall review rating has the highest correlation with review scores value, this possibly indicates that for hosts to receive a higher overall review scores rating, the value of their Airbnb listing has to be high. \n",
        "Since review scores accuracy had the second highest correlation with review scores rating, this could also indicate that in order for hosts to receive a higher review score, they should have very accurate property descriptions.\n",
        "\n",
        "The correlation between review scores rating and whether a host is a superhost may indicate that superhosts receive higher review scores than hosts who are not a superhost.\n",
        "\n",
        "The correlation between review scores rating and the length of the amenities list might mean that hosts are more likely to get high review scores if they offer more amenities.\n",
        "\n",
        "The correlation between review scores rating and number of days a person has been a host could also be indicative of the notion that the longer a person is a host, the more likely they are to receive a higher rated review. "
      ]
    },
    {
      "cell_type": "code",
      "metadata": {
        "colab": {
          "base_uri": "https://localhost:8080/",
          "height": 578
        },
        "id": "ySriE1zsI7cq",
        "outputId": "7e1836c9-f387-4742-cd9f-8384db07f31e"
      },
      "source": [
        "corr_cols = ['review_scores_rating', 'price', 'accommodates','host_is_superhost','host_total_listings_count','days_of_being_host','minimum_nights','maximum_nights','availability_365']\n",
        "colormap = plt.cm.RdBu\n",
        "plt.figure(figsize=(8,8))\n",
        "sns.heatmap(df[corr_cols].astype(float).corr(), linewidths=0.1, vmax=1.0, vmin=-1., square=True, cmap=colormap, linecolor='white', annot=True,fmt=\".2f\")\n",
        "plt.title('Pair-wise correlation')"
      ],
      "execution_count": null,
      "outputs": [
        {
          "output_type": "execute_result",
          "data": {
            "text/plain": [
              "Text(0.5, 1.0, 'Pair-wise correlation')"
            ]
          },
          "metadata": {
            "tags": []
          },
          "execution_count": 29
        },
        {
          "output_type": "display_data",
          "data": {
            "image/png": "[encoded data removed]",
            "text/plain": [
              "<Figure size 576x576 with 2 Axes>"
            ]
          },
          "metadata": {
            "tags": [],
            "needs_background": "light"
          }
        }
      ]
    },
    {
      "cell_type": "markdown",
      "metadata": {
        "id": "rxzXkD18ZfpI"
      },
      "source": [
        "###### Observations\n",
        "The overall review scores rating is most correlated with whether a host is a superhost and the days the person has been a host. We can also see that price is most correlated with the number of people that can be accomodated and the listing's neighbourhood."
      ]
    },
    {
      "cell_type": "markdown",
      "metadata": {
        "id": "s181MeYXZfZu"
      },
      "source": [
        "###### Takeaways\n",
        "We can again infer that hosts will receive higher overall review scores if they are a superhost and if they have been a host for a long time. \n",
        "\n",
        "Because price is most correlated with number of people accomodated and neighborhood, hosts should consider the two factors in order to have a more successful listing."
      ]
    },
    {
      "cell_type": "markdown",
      "metadata": {
        "id": "VlJUNfeR2MQ3"
      },
      "source": [
        "## Plots"
      ]
    },
    {
      "cell_type": "markdown",
      "metadata": {
        "id": "eaQu3wK3dYpi"
      },
      "source": [
        "##### Visualizing Top 20 Most Expensive Listings"
      ]
    },
    {
      "cell_type": "code",
      "metadata": {
        "id": "nxvjFlNGdbtr"
      },
      "source": [
        "sns.countplot(top_20['neighbourhood_group_cleansed'], palette=\"mako\")\n",
        "fig = plt.gcf()\n",
        "fig.set_size_inches(10,10)\n",
        "plt.title('Top 20 Most Expensive Listings by Neighbourhood')\n",
        "plt.xlabel('neighborhood')"
      ],
      "execution_count": null,
      "outputs": []
    },
    {
      "cell_type": "code",
      "metadata": {
        "id": "Ya2gJfzsde5c"
      },
      "source": [
        "top_20[['host_response_rate','neighbourhood_group_cleansed','accommodates','review_scores_rating','host_is_superhost','room_type']].mode()"
      ],
      "execution_count": null,
      "outputs": []
    },
    {
      "cell_type": "markdown",
      "metadata": {
        "id": "b55TXkbFdhgG"
      },
      "source": [
        "From the barplot and our query above, we can see that of the top 20 most expensive listings, the majority are located in Manhattan. Our query also shows that majority of the top 20 listings are of hosts with the following: a response rate in bin 5 (100% response rate), listings that accommodate 2 guests, review scores rating of 100, not superhosts, and listings of private rooms.\n",
        "It is interesting to note that even though we found a correlation between a high overall review rating score and whether a host is superhost, the majority of the most expensive listings are of non-superhosts. Therefore, we need to further investigate whether it is important that hosts are superhosts to have higher review scores and have a more successful listing"
      ]
    },
    {
      "cell_type": "markdown",
      "metadata": {
        "id": "LhHvwLFveamG"
      },
      "source": [
        "------"
      ]
    },
    {
      "cell_type": "markdown",
      "metadata": {
        "id": "LBxutdcHeAQh"
      },
      "source": [
        "\n",
        " ##### Visualizing All Listings\n",
        "\n"
      ]
    },
    {
      "cell_type": "markdown",
      "metadata": {
        "id": "K_skT4o2eDdj"
      },
      "source": [
        "Using longitude and latitude to create simple scatter plot of all listing locations\n"
      ]
    },
    {
      "cell_type": "code",
      "metadata": {
        "id": "f5rA-zHZdevP"
      },
      "source": [
        "df.plot(kind=\"scatter\", x=\"longitude\", y=\"latitude\", alpha=0.4,s=2)\n",
        "plt.show()"
      ],
      "execution_count": 6,
      "outputs": []
    },
    {
      "cell_type": "markdown",
      "metadata": {
        "id": "caZJw7GqeYmV"
      },
      "source": [
        "-------"
      ]
    },
    {
      "cell_type": "markdown",
      "metadata": {
        "id": "uEx8liFfeIq7"
      },
      "source": [
        "Visualizing listings by room type"
      ]
    },
    {
      "cell_type": "code",
      "metadata": {
        "id": "dF_x8jATdekh"
      },
      "source": [
        "plt.figure(figsize=(15,15))\n",
        "\n",
        "nyc_img=plt.imread('Neighbourhoods_New_York_City_Map.PNG')\n",
        "plt.imshow(nyc_img,zorder=0,extent=[-74.239, -73.711, 40.508,40.911])\n",
        "ax=plt.gca()\n",
        "\n",
        "colors = {'Entire home/apt':'blue', 'Private room':'orange', 'Shared room':'green', 'Hotel room':'red'}\n",
        "\n",
        "grouped = df.groupby('room_type')\n",
        "for key, group in grouped:\n",
        "    group.plot(ax=ax, kind='scatter', x='longitude', y='latitude', label=key, color=colors[key],s=5,alpha=0.5)\n",
        "\n",
        "plt.show()"
      ],
      "execution_count": null,
      "outputs": []
    },
    {
      "cell_type": "code",
      "metadata": {
        "id": "J6oSdnHcdeb3"
      },
      "source": [
        "plt.figure(figsize=(15,15))\n",
        "nyc_img=plt.imread('Neighbourhoods_New_York_City_Map.PNG')\n",
        "plt.imshow(nyc_img,zorder=0,extent=[-74.239, -73.711, 40.508,40.911])\n",
        "ax=plt.gca()\n",
        "sns.scatterplot(df.longitude,df.latitude,hue=df.room_type,s=5)\n",
        "plt.show()"
      ],
      "execution_count": null,
      "outputs": []
    },
    {
      "cell_type": "code",
      "metadata": {
        "id": "0rnpDpR1deR4"
      },
      "source": [
        "sns.countplot(df['room_type'], palette=\"mako\")\n",
        "fig = plt.gcf()\n",
        "fig.set_size_inches(15,15)\n",
        "plt.title('Listings by Room Type')\n",
        "plt.xlabel('room type')"
      ],
      "execution_count": null,
      "outputs": []
    },
    {
      "cell_type": "code",
      "metadata": {
        "id": "0dMrxpv3eQHC"
      },
      "source": [
        "Of all listings in NYC, the majority are of the entire home/apt."
      ],
      "execution_count": null,
      "outputs": []
    },
    {
      "cell_type": "markdown",
      "metadata": {
        "id": "vmyeLBA3eTdO"
      },
      "source": [
        "-------"
      ]
    },
    {
      "cell_type": "markdown",
      "metadata": {
        "id": "4ZE1RnanekpJ"
      },
      "source": [
        "Visualizing listings by neighborhood\n"
      ]
    },
    {
      "cell_type": "code",
      "metadata": {
        "id": "EIBdgxJbeP8z"
      },
      "source": [
        "plt.figure(figsize=(15,15))\n",
        "\n",
        "nyc_img=plt.imread('Neighbourhoods_New_York_City_Map.PNG')\n",
        "\n",
        "plt.imshow(nyc_img,zorder=0,extent=[-74.239, -73.711, 40.508,40.911])\n",
        "ax=plt.gca()\n",
        "\n",
        "sns.scatterplot(df.longitude,df.latitude,hue=df.neighbourhood_group_cleansed,s=5)\n",
        "plt.legend(title='neighborhoods')\n",
        "plt.show()"
      ],
      "execution_count": null,
      "outputs": []
    },
    {
      "cell_type": "code",
      "metadata": {
        "id": "x709VITWePyj"
      },
      "source": [
        "sns.countplot(df['neighbourhood_group_cleansed'], palette=\"mako\")\n",
        "fig = plt.gcf()\n",
        "fig.set_size_inches(15,15)\n",
        "plt.title('Listings per Neighbourhood')\n",
        "plt.xlabel('neighborhood')"
      ],
      "execution_count": null,
      "outputs": []
    },
    {
      "cell_type": "markdown",
      "metadata": {
        "id": "eP2NAYchepU4"
      },
      "source": [
        "Most listings are in Manhattan."
      ]
    },
    {
      "cell_type": "markdown",
      "metadata": {
        "id": "txdQFRuTequw"
      },
      "source": [
        "-----"
      ]
    },
    {
      "cell_type": "markdown",
      "metadata": {
        "id": "kQOptyqAetY4"
      },
      "source": [
        "Visualizing number of listings: neighborhood and room type"
      ]
    },
    {
      "cell_type": "code",
      "metadata": {
        "id": "1YPjz6uFePkR"
      },
      "source": [
        "plt.figure(figsize=(15,6))\n",
        "sns.countplot(data=df, x='neighbourhood_group_cleansed', hue='room_type', palette='mako')\n",
        "plt.title('Number of AirBnBs by Neighborhood and Room Type', fontsize=15)\n",
        "plt.xlabel('Neighbourhood')\n",
        "plt.ylabel(\"Count\")\n",
        "plt.legend(frameon=False, fontsize=12)"
      ],
      "execution_count": null,
      "outputs": []
    },
    {
      "cell_type": "markdown",
      "metadata": {
        "id": "0Wk66gS6ey8U"
      },
      "source": [
        "Most listings are for an entire home/apt in Manhattan"
      ]
    },
    {
      "cell_type": "markdown",
      "metadata": {
        "id": "xEbWP-rje0CU"
      },
      "source": [
        "------"
      ]
    },
    {
      "cell_type": "markdown",
      "metadata": {
        "id": "D9rdKDB5e6gQ"
      },
      "source": [
        "#### Implementing color scale to visualize listings by price\n"
      ]
    },
    {
      "cell_type": "code",
      "metadata": {
        "id": "7uIu0_A8ePS9"
      },
      "source": [
        "plt.figure(figsize=(16,10))\n",
        "\n",
        "#i=urllib.request.urlopen('https://upload.wikimedia.org/wikipedia/commons/e/ec/Neighbourhoods_New_York_City_Map.PNG')\n",
        "nyc_img=plt.imread('Neighbourhoods_New_York_City_Map.PNG')\n",
        "plt.imshow(nyc_img,zorder=0,extent=[-74.239, -73.711, 40.508,40.911])\n",
        "ax=plt.gca()\n",
        "\n",
        "#Using log of price for normalization\n",
        "log_p = np.log1p(df['price'])\n",
        "\n",
        "df.plot(kind='scatter', x='longitude', y='latitude', label='price', c=log_p, ax=ax, \n",
        "           cmap=plt.get_cmap('ocean'), colorbar=True, alpha=0.4, zorder=5,s=2)\n",
        "\n",
        "plt.legend()\n",
        "plt.show()"
      ],
      "execution_count": null,
      "outputs": []
    },
    {
      "cell_type": "code",
      "metadata": {
        "id": "eRRI--NkfAsK"
      },
      "source": [
        "#Using map to visualize top 20 most expensive listings\n",
        "plt.figure(figsize=(15,15))\n",
        "\n",
        "nyc_img=plt.imread('Neighbourhoods_New_York_City_Map.PNG')\n",
        "\n",
        "plt.imshow(nyc_img,zorder=0,extent=[-74.239, -73.711, 40.508,40.911])\n",
        "ax=plt.gca()\n",
        "\n",
        "sns.scatterplot(top_20.longitude,top_20.latitude,hue=top_20.neighbourhood_group_cleansed,s=15)\n",
        "plt.legend(title='neighborhoods')\n",
        "plt.show()"
      ],
      "execution_count": null,
      "outputs": []
    },
    {
      "cell_type": "markdown",
      "metadata": {
        "id": "j-W9kdBPfFn7"
      },
      "source": [
        "Most expensive listings concentrated in Manhattan"
      ]
    },
    {
      "cell_type": "markdown",
      "metadata": {
        "id": "3WtM4yslfHLO"
      },
      "source": [
        "----"
      ]
    },
    {
      "cell_type": "markdown",
      "metadata": {
        "id": "a8qls8vVfG7Z"
      },
      "source": [
        "#### Superhost and listing prices"
      ]
    },
    {
      "cell_type": "code",
      "metadata": {
        "id": "DkRjktOxEvxL",
        "colab": {
          "base_uri": "https://localhost:8080/",
          "height": 697
        },
        "outputId": "5f920e42-0251-49ae-e84f-e41c05f36984"
      },
      "source": [
        "import matplotlib.pyplot as plt\n",
        "from matplotlib import pyplot\n",
        "\n",
        "g = sns.catplot(x=\"neighbourhood_group_cleansed\", y=\"price\",hue=\"host_is_superhost\", data=df,s=5,dodge=True)\n",
        "plt.xlabel('neighborhood')\n",
        "g.fig.set_figwidth(15)\n",
        "g.fig.set_figheight(10)\n",
        "plt.title('Host Type Across Neighborhoods', fontsize=15)"
      ],
      "execution_count": null,
      "outputs": [
        {
          "output_type": "display_data",
          "data": {
            "image/png": "[encoded data removed]",
            "text/plain": [
              "<Figure size 1080x720 with 1 Axes>"
            ]
          },
          "metadata": {
            "tags": []
          }
        }
      ]
    },
    {
      "cell_type": "markdown",
      "metadata": {
        "id": "GHHsHLSUfbE_"
      },
      "source": [
        "This visual shows that across all neighborhoods, the listings are of non-superhosts. It also appears that superhosts tend to have higher priced listings than non-superhosts for each neighborhood."
      ]
    },
    {
      "cell_type": "code",
      "metadata": {
        "colab": {
          "base_uri": "https://localhost:8080/",
          "height": 697
        },
        "id": "iS10ApWYLsFN",
        "outputId": "debb241e-8f7a-44d5-bc47-4acd11dbf74e"
      },
      "source": [
        "g = sns.catplot(x=\"room_type\", y=\"price\",hue=\"host_is_superhost\", data=df,s=5,dodge=True)\n",
        "plt.xlabel('room type')\n",
        "g.fig.set_figwidth(15)\n",
        "g.fig.set_figheight(10)\n",
        "plt.title('Host Type Across Room Type', fontsize=15)"
      ],
      "execution_count": null,
      "outputs": [
        {
          "output_type": "display_data",
          "data": {
            "image/png": "[encoded data removed]",
            "text/plain": [
              "<Figure size 1080x720 with 1 Axes>"
            ]
          },
          "metadata": {
            "tags": []
          }
        }
      ]
    }
  ]
}