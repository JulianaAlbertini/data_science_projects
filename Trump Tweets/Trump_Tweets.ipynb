{
 "cells": [
  {
   "cell_type": "markdown",
   "metadata": {},
   "source": [
    "# Trump & Twitter"
   ]
  },
  {
   "cell_type": "markdown",
   "metadata": {},
   "source": [
    "## Goal: analyze Donald Trump's tweets"
   ]
  },
  {
   "cell_type": "markdown",
   "metadata": {},
   "source": [
    "*Credit to UC Berkeley Data100 Fall 2019 staff for assignment prompt and code outline"
   ]
  },
  {
   "cell_type": "markdown",
   "metadata": {},
   "source": [
    "## Imports:"
   ]
  },
  {
   "cell_type": "code",
   "execution_count": 91,
   "metadata": {},
   "outputs": [],
   "source": [
    "import csv\n",
    "import numpy as np\n",
    "import pandas as pd\n",
    "import matplotlib.pyplot as plt\n",
    "import json\n",
    "import zipfile\n",
    "\n",
    "pd.set_option('max_colwidth', 280)\n",
    "\n",
    "%matplotlib inline\n",
    "plt.style.use('fivethirtyeight')\n",
    "import seaborn as sns\n",
    "sns.set()\n",
    "sns.set_context(\"talk\")\n",
    "import re\n",
    "import warnings\n",
    "warnings.filterwarnings('ignore')"
   ]
  },
  {
   "cell_type": "markdown",
   "metadata": {},
   "source": [
    "## Part 1: Importing the Data"
   ]
  },
  {
   "cell_type": "code",
   "execution_count": 92,
   "metadata": {},
   "outputs": [
    {
     "name": "stdout",
     "output_type": "stream",
     "text": [
      "Using version already downloaded: Thu Dec 17 21:02:55 2020\n",
      "MD5 hash of file: 664c6f85e94ea09e1507eedd7626adc5\n",
      "Located at data/hw4-realdonaldtrump_tweets.json.zip\n"
     ]
    }
   ],
   "source": [
    "# Download the dataset\n",
    "from ds100_utils import fetch_and_cache\n",
    "data_url = 'http://www.ds100.org/fa19/assets/datasets/hw4-realdonaldtrump_tweets.json.zip'\n",
    "file_name = 'hw4-realdonaldtrump_tweets.json.zip'\n",
    "\n",
    "dest_path = fetch_and_cache(data_url=data_url, file=file_name)\n",
    "print(f'Located at {dest_path}')"
   ]
  },
  {
   "cell_type": "code",
   "execution_count": 93,
   "metadata": {},
   "outputs": [],
   "source": [
    "# Unzip the dataset\n",
    "my_zip = zipfile.ZipFile(dest_path, 'r')\n",
    "with my_zip.open('hw4-realdonaldtrump_tweets.json', 'r') as f:\n",
    "    all_tweets = json.load(f)"
   ]
  },
  {
   "cell_type": "markdown",
   "metadata": {},
   "source": [
    "### 1a) Constructing 'trump' dataframe containing data from all the tweets stored in all_tweets"
   ]
  },
  {
   "cell_type": "code",
   "execution_count": 94,
   "metadata": {},
   "outputs": [
    {
     "data": {
      "text/html": [
       "<div>\n",
       "<style scoped>\n",
       "    .dataframe tbody tr th:only-of-type {\n",
       "        vertical-align: middle;\n",
       "    }\n",
       "\n",
       "    .dataframe tbody tr th {\n",
       "        vertical-align: top;\n",
       "    }\n",
       "\n",
       "    .dataframe thead th {\n",
       "        text-align: right;\n",
       "    }\n",
       "</style>\n",
       "<table border=\"1\" class=\"dataframe\">\n",
       "  <thead>\n",
       "    <tr style=\"text-align: right;\">\n",
       "      <th></th>\n",
       "      <th>time</th>\n",
       "      <th>source</th>\n",
       "      <th>text</th>\n",
       "      <th>retweet_count</th>\n",
       "    </tr>\n",
       "    <tr>\n",
       "      <th>id</th>\n",
       "      <th></th>\n",
       "      <th></th>\n",
       "      <th></th>\n",
       "      <th></th>\n",
       "    </tr>\n",
       "  </thead>\n",
       "  <tbody>\n",
       "    <tr>\n",
       "      <th>786204978629185536</th>\n",
       "      <td>2016-10-12 14:00:48+00:00</td>\n",
       "      <td>&lt;a href=\"http://twitter.com/download/iphone\" rel=\"nofollow\"&gt;Twitter for iPhone&lt;/a&gt;</td>\n",
       "      <td>PAY TO PLAY POLITICS. \\n#CrookedHillary https://t.co/wjsl8ITVvk</td>\n",
       "      <td>24915</td>\n",
       "    </tr>\n",
       "    <tr>\n",
       "      <th>786201435486781440</th>\n",
       "      <td>2016-10-12 13:46:43+00:00</td>\n",
       "      <td>&lt;a href=\"http://twitter.com/download/iphone\" rel=\"nofollow\"&gt;Twitter for iPhone&lt;/a&gt;</td>\n",
       "      <td>Very little pick-up by the dishonest media of incredible information provided by WikiLeaks. So dishonest! Rigged system!</td>\n",
       "      <td>22609</td>\n",
       "    </tr>\n",
       "    <tr>\n",
       "      <th>786189446274248704</th>\n",
       "      <td>2016-10-12 12:59:05+00:00</td>\n",
       "      <td>&lt;a href=\"http://twitter.com/download/android\" rel=\"nofollow\"&gt;Twitter for Android&lt;/a&gt;</td>\n",
       "      <td>Crooked Hillary Clinton likes to talk about the things she will do but she has been there for 30 years - why didn't she do them?</td>\n",
       "      <td>18329</td>\n",
       "    </tr>\n",
       "    <tr>\n",
       "      <th>786054986534969344</th>\n",
       "      <td>2016-10-12 04:04:47+00:00</td>\n",
       "      <td>&lt;a href=\"http://twitter.com/download/iphone\" rel=\"nofollow\"&gt;Twitter for iPhone&lt;/a&gt;</td>\n",
       "      <td>Thank you Florida- a MOVEMENT that has never been seen before and will never be seen again. Lets get out &amp;amp;… https://t.co/t9XM9wFDZI</td>\n",
       "      <td>18789</td>\n",
       "    </tr>\n",
       "    <tr>\n",
       "      <th>786007502639038464</th>\n",
       "      <td>2016-10-12 00:56:06+00:00</td>\n",
       "      <td>&lt;a href=\"http://twitter.com/download/iphone\" rel=\"nofollow\"&gt;Twitter for iPhone&lt;/a&gt;</td>\n",
       "      <td>Join me Thursday in Florida &amp;amp; Ohio!\\nWest Palm Beach, FL at noon:\\nhttps://t.co/jwbZnQhxg9\\nCincinnati, OH this 7:30pm:\\nhttps://t.co/5w2UhalPIx</td>\n",
       "      <td>7761</td>\n",
       "    </tr>\n",
       "  </tbody>\n",
       "</table>\n",
       "</div>"
      ],
      "text/plain": [
       "                                        time  \\\n",
       "id                                             \n",
       "786204978629185536 2016-10-12 14:00:48+00:00   \n",
       "786201435486781440 2016-10-12 13:46:43+00:00   \n",
       "786189446274248704 2016-10-12 12:59:05+00:00   \n",
       "786054986534969344 2016-10-12 04:04:47+00:00   \n",
       "786007502639038464 2016-10-12 00:56:06+00:00   \n",
       "\n",
       "                                                                                                  source  \\\n",
       "id                                                                                                         \n",
       "786204978629185536    <a href=\"http://twitter.com/download/iphone\" rel=\"nofollow\">Twitter for iPhone</a>   \n",
       "786201435486781440    <a href=\"http://twitter.com/download/iphone\" rel=\"nofollow\">Twitter for iPhone</a>   \n",
       "786189446274248704  <a href=\"http://twitter.com/download/android\" rel=\"nofollow\">Twitter for Android</a>   \n",
       "786054986534969344    <a href=\"http://twitter.com/download/iphone\" rel=\"nofollow\">Twitter for iPhone</a>   \n",
       "786007502639038464    <a href=\"http://twitter.com/download/iphone\" rel=\"nofollow\">Twitter for iPhone</a>   \n",
       "\n",
       "                                                                                                                                                                    text  \\\n",
       "id                                                                                                                                                                         \n",
       "786204978629185536                                                                                       PAY TO PLAY POLITICS. \\n#CrookedHillary https://t.co/wjsl8ITVvk   \n",
       "786201435486781440                              Very little pick-up by the dishonest media of incredible information provided by WikiLeaks. So dishonest! Rigged system!   \n",
       "786189446274248704                      Crooked Hillary Clinton likes to talk about the things she will do but she has been there for 30 years - why didn't she do them?   \n",
       "786054986534969344               Thank you Florida- a MOVEMENT that has never been seen before and will never be seen again. Lets get out &amp;… https://t.co/t9XM9wFDZI   \n",
       "786007502639038464  Join me Thursday in Florida &amp; Ohio!\\nWest Palm Beach, FL at noon:\\nhttps://t.co/jwbZnQhxg9\\nCincinnati, OH this 7:30pm:\\nhttps://t.co/5w2UhalPIx   \n",
       "\n",
       "                    retweet_count  \n",
       "id                                 \n",
       "786204978629185536          24915  \n",
       "786201435486781440          22609  \n",
       "786189446274248704          18329  \n",
       "786054986534969344          18789  \n",
       "786007502639038464           7761  "
      ]
     },
     "execution_count": 94,
     "metadata": {},
     "output_type": "execute_result"
    }
   ],
   "source": [
    "#index is id of each tweet\n",
    "#time encoded as datetime object\n",
    "#source device of the tweet\n",
    "#text ofthe tweet\n",
    "# retweet count of tweet\n",
    "\n",
    "trump = pd.DataFrame({\n",
    "    'time': pd.to_datetime([t['created_at'] for t in all_tweets]),\n",
    "    'source': [t['source'] for t in all_tweets],\n",
    "    'text': [t['text'] if \"text\" in t else t['full_text'] for t in all_tweets],\n",
    "    'retweet_count': [t[\"retweet_count\"] for t in all_tweets],\n",
    "}, index=[t['id'] for t in all_tweets],\n",
    "   columns=['time', 'source', 'text', 'retweet_count'],\n",
    ").sort_index()\n",
    "trump = reindexed.set_index('id')\n",
    "trump.head()"
   ]
  },
  {
   "cell_type": "markdown",
   "metadata": {},
   "source": [
    "## Part 2: Tweet Source Analysis"
   ]
  },
  {
   "cell_type": "markdown",
   "metadata": {},
   "source": [
    "### 2a) Example of a tweet"
   ]
  },
  {
   "cell_type": "code",
   "execution_count": 95,
   "metadata": {},
   "outputs": [
    {
     "name": "stdout",
     "output_type": "stream",
     "text": [
      "{'contributors': None,\n",
      " 'coordinates': None,\n",
      " 'created_at': 'Tue Oct 16 18:40:18 +0000 2018',\n",
      " 'display_text_range': [0, 174],\n",
      " 'entities': {'hashtags': [], 'symbols': [], 'urls': [], 'user_mentions': []},\n",
      " 'favorite_count': 52115,\n",
      " 'favorited': False,\n",
      " 'full_text': 'Just spoke with the Crown Prince of Saudi Arabia who totally '\n",
      "              'denied any knowledge of what took place in their Turkish '\n",
      "              'Consulate. He was with Secretary of State Mike Pompeo...',\n",
      " 'geo': None,\n",
      " 'id': 1052268011900555265,\n",
      " 'id_str': '1052268011900555265',\n",
      " 'in_reply_to_screen_name': None,\n",
      " 'in_reply_to_status_id': None,\n",
      " 'in_reply_to_status_id_str': None,\n",
      " 'in_reply_to_user_id': None,\n",
      " 'in_reply_to_user_id_str': None,\n",
      " 'is_quote_status': False,\n",
      " 'lang': 'en',\n",
      " 'place': None,\n",
      " 'retweet_count': 13493,\n",
      " 'retweeted': False,\n",
      " 'source': '<a href=\"http://twitter.com/download/iphone\" '\n",
      "           'rel=\"nofollow\">Twitter for iPhone</a>',\n",
      " 'truncated': False,\n",
      " 'user': {'contributors_enabled': False,\n",
      "          'created_at': 'Wed Mar 18 13:46:38 +0000 2009',\n",
      "          'default_profile': False,\n",
      "          'default_profile_image': False,\n",
      "          'description': '45th President of the United States of America🇺🇸',\n",
      "          'entities': {'description': {'urls': []},\n",
      "                       'url': {'urls': [{'display_url': 'Instagram.com/realDonaldTrump',\n",
      "                                         'expanded_url': 'http://www.Instagram.com/realDonaldTrump',\n",
      "                                         'indices': [0, 23],\n",
      "                                         'url': 'https://t.co/OMxB0x7xC5'}]}},\n",
      "          'favourites_count': 7,\n",
      "          'follow_request_sent': False,\n",
      "          'followers_count': 58311576,\n",
      "          'following': True,\n",
      "          'friends_count': 45,\n",
      "          'geo_enabled': True,\n",
      "          'has_extended_profile': False,\n",
      "          'id': 25073877,\n",
      "          'id_str': '25073877',\n",
      "          'is_translation_enabled': True,\n",
      "          'is_translator': False,\n",
      "          'lang': 'en',\n",
      "          'listed_count': 100264,\n",
      "          'location': 'Washington, DC',\n",
      "          'name': 'Donald J. Trump',\n",
      "          'notifications': False,\n",
      "          'profile_background_color': '6D5C18',\n",
      "          'profile_background_image_url': 'http://abs.twimg.com/images/themes/theme1/bg.png',\n",
      "          'profile_background_image_url_https': 'https://abs.twimg.com/images/themes/theme1/bg.png',\n",
      "          'profile_background_tile': True,\n",
      "          'profile_banner_url': 'https://pbs.twimg.com/profile_banners/25073877/1550087458',\n",
      "          'profile_image_url': 'http://pbs.twimg.com/profile_images/874276197357596672/kUuht00m_normal.jpg',\n",
      "          'profile_image_url_https': 'https://pbs.twimg.com/profile_images/874276197357596672/kUuht00m_normal.jpg',\n",
      "          'profile_link_color': '1B95E0',\n",
      "          'profile_sidebar_border_color': 'BDDCAD',\n",
      "          'profile_sidebar_fill_color': 'C5CEC0',\n",
      "          'profile_text_color': '333333',\n",
      "          'profile_use_background_image': True,\n",
      "          'protected': False,\n",
      "          'screen_name': 'realDonaldTrump',\n",
      "          'statuses_count': 40563,\n",
      "          'time_zone': None,\n",
      "          'translator_type': 'regular',\n",
      "          'url': 'https://t.co/OMxB0x7xC5',\n",
      "          'utc_offset': None,\n",
      "          'verified': True}}\n"
     ]
    }
   ],
   "source": [
    "from pprint import pprint\n",
    "pprint(all_tweets[-1])"
   ]
  },
  {
   "cell_type": "markdown",
   "metadata": {},
   "source": [
    "### 2b) Looking into source field"
   ]
  },
  {
   "cell_type": "code",
   "execution_count": 96,
   "metadata": {},
   "outputs": [
    {
     "data": {
      "text/plain": [
       "array(['<a href=\"http://twitter.com/download/iphone\" rel=\"nofollow\">Twitter for iPhone</a>',\n",
       "       '<a href=\"http://twitter.com/download/android\" rel=\"nofollow\">Twitter for Android</a>',\n",
       "       '<a href=\"http://twitter.com\" rel=\"nofollow\">Twitter Web Client</a>',\n",
       "       '<a href=\"https://studio.twitter.com\" rel=\"nofollow\">Media Studio</a>',\n",
       "       '<a href=\"http://twitter.com/#!/download/ipad\" rel=\"nofollow\">Twitter for iPad</a>',\n",
       "       '<a href=\"http://instagram.com\" rel=\"nofollow\">Instagram</a>',\n",
       "       '<a href=\"https://mobile.twitter.com\" rel=\"nofollow\">Mobile Web (M5)</a>',\n",
       "       '<a href=\"https://ads.twitter.com\" rel=\"nofollow\">Twitter Ads</a>',\n",
       "       '<a href=\"https://periscope.tv\" rel=\"nofollow\">Periscope</a>',\n",
       "       '<a href=\"https://studio.twitter.com\" rel=\"nofollow\">Twitter Media Studio</a>'],\n",
       "      dtype=object)"
      ]
     },
     "execution_count": 96,
     "metadata": {},
     "output_type": "execute_result"
    }
   ],
   "source": [
    "trump['source'].unique()"
   ]
  },
  {
   "cell_type": "markdown",
   "metadata": {},
   "source": [
    "### 2c) Cleaning source field"
   ]
  },
  {
   "cell_type": "code",
   "execution_count": 97,
   "metadata": {},
   "outputs": [
    {
     "data": {
      "text/html": [
       "<div>\n",
       "<style scoped>\n",
       "    .dataframe tbody tr th:only-of-type {\n",
       "        vertical-align: middle;\n",
       "    }\n",
       "\n",
       "    .dataframe tbody tr th {\n",
       "        vertical-align: top;\n",
       "    }\n",
       "\n",
       "    .dataframe thead th {\n",
       "        text-align: right;\n",
       "    }\n",
       "</style>\n",
       "<table border=\"1\" class=\"dataframe\">\n",
       "  <thead>\n",
       "    <tr style=\"text-align: right;\">\n",
       "      <th></th>\n",
       "      <th>time</th>\n",
       "      <th>source</th>\n",
       "      <th>text</th>\n",
       "      <th>retweet_count</th>\n",
       "    </tr>\n",
       "    <tr>\n",
       "      <th>id</th>\n",
       "      <th></th>\n",
       "      <th></th>\n",
       "      <th></th>\n",
       "      <th></th>\n",
       "    </tr>\n",
       "  </thead>\n",
       "  <tbody>\n",
       "    <tr>\n",
       "      <th>786204978629185536</th>\n",
       "      <td>2016-10-12 14:00:48+00:00</td>\n",
       "      <td>Twitter for iPhone</td>\n",
       "      <td>PAY TO PLAY POLITICS. \\n#CrookedHillary https://t.co/wjsl8ITVvk</td>\n",
       "      <td>24915</td>\n",
       "    </tr>\n",
       "    <tr>\n",
       "      <th>786201435486781440</th>\n",
       "      <td>2016-10-12 13:46:43+00:00</td>\n",
       "      <td>Twitter for iPhone</td>\n",
       "      <td>Very little pick-up by the dishonest media of incredible information provided by WikiLeaks. So dishonest! Rigged system!</td>\n",
       "      <td>22609</td>\n",
       "    </tr>\n",
       "    <tr>\n",
       "      <th>786189446274248704</th>\n",
       "      <td>2016-10-12 12:59:05+00:00</td>\n",
       "      <td>Twitter for Android</td>\n",
       "      <td>Crooked Hillary Clinton likes to talk about the things she will do but she has been there for 30 years - why didn't she do them?</td>\n",
       "      <td>18329</td>\n",
       "    </tr>\n",
       "    <tr>\n",
       "      <th>786054986534969344</th>\n",
       "      <td>2016-10-12 04:04:47+00:00</td>\n",
       "      <td>Twitter for iPhone</td>\n",
       "      <td>Thank you Florida- a MOVEMENT that has never been seen before and will never be seen again. Lets get out &amp;amp;… https://t.co/t9XM9wFDZI</td>\n",
       "      <td>18789</td>\n",
       "    </tr>\n",
       "    <tr>\n",
       "      <th>786007502639038464</th>\n",
       "      <td>2016-10-12 00:56:06+00:00</td>\n",
       "      <td>Twitter for iPhone</td>\n",
       "      <td>Join me Thursday in Florida &amp;amp; Ohio!\\nWest Palm Beach, FL at noon:\\nhttps://t.co/jwbZnQhxg9\\nCincinnati, OH this 7:30pm:\\nhttps://t.co/5w2UhalPIx</td>\n",
       "      <td>7761</td>\n",
       "    </tr>\n",
       "  </tbody>\n",
       "</table>\n",
       "</div>"
      ],
      "text/plain": [
       "                                        time               source  \\\n",
       "id                                                                  \n",
       "786204978629185536 2016-10-12 14:00:48+00:00   Twitter for iPhone   \n",
       "786201435486781440 2016-10-12 13:46:43+00:00   Twitter for iPhone   \n",
       "786189446274248704 2016-10-12 12:59:05+00:00  Twitter for Android   \n",
       "786054986534969344 2016-10-12 04:04:47+00:00   Twitter for iPhone   \n",
       "786007502639038464 2016-10-12 00:56:06+00:00   Twitter for iPhone   \n",
       "\n",
       "                                                                                                                                                                    text  \\\n",
       "id                                                                                                                                                                         \n",
       "786204978629185536                                                                                       PAY TO PLAY POLITICS. \\n#CrookedHillary https://t.co/wjsl8ITVvk   \n",
       "786201435486781440                              Very little pick-up by the dishonest media of incredible information provided by WikiLeaks. So dishonest! Rigged system!   \n",
       "786189446274248704                      Crooked Hillary Clinton likes to talk about the things she will do but she has been there for 30 years - why didn't she do them?   \n",
       "786054986534969344               Thank you Florida- a MOVEMENT that has never been seen before and will never be seen again. Lets get out &amp;… https://t.co/t9XM9wFDZI   \n",
       "786007502639038464  Join me Thursday in Florida &amp; Ohio!\\nWest Palm Beach, FL at noon:\\nhttps://t.co/jwbZnQhxg9\\nCincinnati, OH this 7:30pm:\\nhttps://t.co/5w2UhalPIx   \n",
       "\n",
       "                    retweet_count  \n",
       "id                                 \n",
       "786204978629185536          24915  \n",
       "786201435486781440          22609  \n",
       "786189446274248704          18329  \n",
       "786054986534969344          18789  \n",
       "786007502639038464           7761  "
      ]
     },
     "execution_count": 97,
     "metadata": {},
     "output_type": "execute_result"
    }
   ],
   "source": [
    "#removing the HTML tags from each source entry.\n",
    "trump['source'] = trump['source'].str.replace('<[^<]+?>', '')\n",
    "trump.head()"
   ]
  },
  {
   "cell_type": "markdown",
   "metadata": {},
   "source": [
    "### 2c) Devices used to tweet"
   ]
  },
  {
   "cell_type": "code",
   "execution_count": 98,
   "metadata": {},
   "outputs": [
    {
     "data": {
      "image/png": "[encoded data removed]",
      "text/plain": [
       "<Figure size 576x432 with 1 Axes>"
      ]
     },
     "metadata": {},
     "output_type": "display_data"
    }
   ],
   "source": [
    "plt.figure(figsize=(8, 6))\n",
    "trump['source'].value_counts().plot(kind=\"bar\")\n",
    "plt.ylabel(\"Number of Tweets\")\n",
    "plt.title(\"Number of Tweets by Source\");"
   ]
  },
  {
   "cell_type": "markdown",
   "metadata": {},
   "source": [
    "### 3a) Which device does Trump use?"
   ]
  },
  {
   "cell_type": "code",
   "execution_count": 99,
   "metadata": {},
   "outputs": [],
   "source": [
    "#convert date to fractional year to be plotted as a distribution\n",
    "import datetime\n",
    "def year_fraction(date):\n",
    "    start = datetime.date(date.year, 1, 1).toordinal()\n",
    "    year_length = datetime.date(date.year+1, 1, 1).toordinal() - start\n",
    "    return date.year + float(date.toordinal() - start) / year_length\n",
    "\n",
    "trump['year'] = trump['time'].apply(year_fraction)"
   ]
  },
  {
   "cell_type": "code",
   "execution_count": 100,
   "metadata": {},
   "outputs": [
    {
     "data": {
      "text/plain": [
       "<matplotlib.legend.Legend at 0x7f387ca96550>"
      ]
     },
     "execution_count": 100,
     "metadata": {},
     "output_type": "execute_result"
    },
    {
     "data": {
      "image/png": "[encoded data removed]",
      "text/plain": [
       "<Figure size 432x288 with 1 Axes>"
      ]
     },
     "metadata": {},
     "output_type": "display_data"
    }
   ],
   "source": [
    "iphone_filter = trump.loc[trump['source'].isin(['Twitter for iPhone'])]\n",
    "android_filter = trump.loc[trump['source'].isin(['Twitter for Android'])]\n",
    "\n",
    "sns.distplot(iphone_filter['year'],color=\"b\")\n",
    "sns.distplot(android_filter['year'],color=\"r\")\n",
    "\n",
    "plt.title('Distributions of Tweet Sources Over Years')\n",
    "plt.legend(['iPhone','Android'])"
   ]
  },
  {
   "cell_type": "markdown",
   "metadata": {},
   "source": [
    "### 4a) Is there a difference between Trump's tweet behavior across these devices?"
   ]
  },
  {
   "cell_type": "markdown",
   "metadata": {},
   "source": [
    "#### Checking if Trump's tweets from an Android device come at different times than his tweets from an iPhone."
   ]
  },
  {
   "cell_type": "code",
   "execution_count": 101,
   "metadata": {},
   "outputs": [
    {
     "name": "stdout",
     "output_type": "stream",
     "text": [
      "Wed Oct 12 14:00:48 +0000 2016\n",
      "Wed Oct 12 13:46:43 +0000 2016\n",
      "Wed Oct 12 12:59:05 +0000 2016\n"
     ]
    }
   ],
   "source": [
    "for tweet in all_tweets[:3]:\n",
    "    print(tweet['created_at'])"
   ]
  },
  {
   "cell_type": "code",
   "execution_count": 102,
   "metadata": {},
   "outputs": [
    {
     "data": {
      "text/html": [
       "<div>\n",
       "<style scoped>\n",
       "    .dataframe tbody tr th:only-of-type {\n",
       "        vertical-align: middle;\n",
       "    }\n",
       "\n",
       "    .dataframe tbody tr th {\n",
       "        vertical-align: top;\n",
       "    }\n",
       "\n",
       "    .dataframe thead th {\n",
       "        text-align: right;\n",
       "    }\n",
       "</style>\n",
       "<table border=\"1\" class=\"dataframe\">\n",
       "  <thead>\n",
       "    <tr style=\"text-align: right;\">\n",
       "      <th></th>\n",
       "      <th>time</th>\n",
       "      <th>source</th>\n",
       "      <th>text</th>\n",
       "      <th>retweet_count</th>\n",
       "      <th>year</th>\n",
       "      <th>est_time</th>\n",
       "    </tr>\n",
       "    <tr>\n",
       "      <th>id</th>\n",
       "      <th></th>\n",
       "      <th></th>\n",
       "      <th></th>\n",
       "      <th></th>\n",
       "      <th></th>\n",
       "      <th></th>\n",
       "    </tr>\n",
       "  </thead>\n",
       "  <tbody>\n",
       "    <tr>\n",
       "      <th>786204978629185536</th>\n",
       "      <td>2016-10-12 14:00:48+00:00</td>\n",
       "      <td>Twitter for iPhone</td>\n",
       "      <td>PAY TO PLAY POLITICS. \\n#CrookedHillary https://t.co/wjsl8ITVvk</td>\n",
       "      <td>24915</td>\n",
       "      <td>2016.778689</td>\n",
       "      <td>2016-10-12 09:00:48-05:00</td>\n",
       "    </tr>\n",
       "    <tr>\n",
       "      <th>786201435486781440</th>\n",
       "      <td>2016-10-12 13:46:43+00:00</td>\n",
       "      <td>Twitter for iPhone</td>\n",
       "      <td>Very little pick-up by the dishonest media of incredible information provided by WikiLeaks. So dishonest! Rigged system!</td>\n",
       "      <td>22609</td>\n",
       "      <td>2016.778689</td>\n",
       "      <td>2016-10-12 08:46:43-05:00</td>\n",
       "    </tr>\n",
       "    <tr>\n",
       "      <th>786189446274248704</th>\n",
       "      <td>2016-10-12 12:59:05+00:00</td>\n",
       "      <td>Twitter for Android</td>\n",
       "      <td>Crooked Hillary Clinton likes to talk about the things she will do but she has been there for 30 years - why didn't she do them?</td>\n",
       "      <td>18329</td>\n",
       "      <td>2016.778689</td>\n",
       "      <td>2016-10-12 07:59:05-05:00</td>\n",
       "    </tr>\n",
       "    <tr>\n",
       "      <th>786054986534969344</th>\n",
       "      <td>2016-10-12 04:04:47+00:00</td>\n",
       "      <td>Twitter for iPhone</td>\n",
       "      <td>Thank you Florida- a MOVEMENT that has never been seen before and will never be seen again. Lets get out &amp;amp;… https://t.co/t9XM9wFDZI</td>\n",
       "      <td>18789</td>\n",
       "      <td>2016.778689</td>\n",
       "      <td>2016-10-11 23:04:47-05:00</td>\n",
       "    </tr>\n",
       "    <tr>\n",
       "      <th>786007502639038464</th>\n",
       "      <td>2016-10-12 00:56:06+00:00</td>\n",
       "      <td>Twitter for iPhone</td>\n",
       "      <td>Join me Thursday in Florida &amp;amp; Ohio!\\nWest Palm Beach, FL at noon:\\nhttps://t.co/jwbZnQhxg9\\nCincinnati, OH this 7:30pm:\\nhttps://t.co/5w2UhalPIx</td>\n",
       "      <td>7761</td>\n",
       "      <td>2016.778689</td>\n",
       "      <td>2016-10-11 19:56:06-05:00</td>\n",
       "    </tr>\n",
       "  </tbody>\n",
       "</table>\n",
       "</div>"
      ],
      "text/plain": [
       "                                        time               source  \\\n",
       "id                                                                  \n",
       "786204978629185536 2016-10-12 14:00:48+00:00   Twitter for iPhone   \n",
       "786201435486781440 2016-10-12 13:46:43+00:00   Twitter for iPhone   \n",
       "786189446274248704 2016-10-12 12:59:05+00:00  Twitter for Android   \n",
       "786054986534969344 2016-10-12 04:04:47+00:00   Twitter for iPhone   \n",
       "786007502639038464 2016-10-12 00:56:06+00:00   Twitter for iPhone   \n",
       "\n",
       "                                                                                                                                                                    text  \\\n",
       "id                                                                                                                                                                         \n",
       "786204978629185536                                                                                       PAY TO PLAY POLITICS. \\n#CrookedHillary https://t.co/wjsl8ITVvk   \n",
       "786201435486781440                              Very little pick-up by the dishonest media of incredible information provided by WikiLeaks. So dishonest! Rigged system!   \n",
       "786189446274248704                      Crooked Hillary Clinton likes to talk about the things she will do but she has been there for 30 years - why didn't she do them?   \n",
       "786054986534969344               Thank you Florida- a MOVEMENT that has never been seen before and will never be seen again. Lets get out &amp;… https://t.co/t9XM9wFDZI   \n",
       "786007502639038464  Join me Thursday in Florida &amp; Ohio!\\nWest Palm Beach, FL at noon:\\nhttps://t.co/jwbZnQhxg9\\nCincinnati, OH this 7:30pm:\\nhttps://t.co/5w2UhalPIx   \n",
       "\n",
       "                    retweet_count         year                  est_time  \n",
       "id                                                                        \n",
       "786204978629185536          24915  2016.778689 2016-10-12 09:00:48-05:00  \n",
       "786201435486781440          22609  2016.778689 2016-10-12 08:46:43-05:00  \n",
       "786189446274248704          18329  2016.778689 2016-10-12 07:59:05-05:00  \n",
       "786054986534969344          18789  2016.778689 2016-10-11 23:04:47-05:00  \n",
       "786007502639038464           7761  2016.778689 2016-10-11 19:56:06-05:00  "
      ]
     },
     "execution_count": 102,
     "metadata": {},
     "output_type": "execute_result"
    }
   ],
   "source": [
    "#Convert  tweet times to US Eastern Time (New York and Washington D.C)\n",
    "trump['est_time'] = (\n",
    "    trump['time'].dt.tz_convert(\"UTC\") # Set initial timezone to UTC\n",
    "                 .dt.tz_convert(\"EST\") # Convert to Eastern Time\n",
    ")\n",
    "trump.head()"
   ]
  },
  {
   "cell_type": "code",
   "execution_count": 103,
   "metadata": {},
   "outputs": [],
   "source": [
    "#Add hour column\n",
    "trump['hour'] = (trump['est_time'].dt.hour) + (trump['time'].dt.minute/60) + (trump['time'].dt.second/60**2)"
   ]
  },
  {
   "cell_type": "markdown",
   "metadata": {},
   "source": [
    "### 4a) Tweet hours for different tweet sources"
   ]
  },
  {
   "cell_type": "code",
   "execution_count": 104,
   "metadata": {},
   "outputs": [
    {
     "data": {
      "image/png": "[encoded data removed]",
      "text/plain": [
       "<Figure size 432x288 with 1 Axes>"
      ]
     },
     "metadata": {},
     "output_type": "display_data"
    }
   ],
   "source": [
    "iphone_filter = trump.loc[trump['source'].isin(['Twitter for iPhone'])]\n",
    "android_filter = trump.loc[trump['source'].isin(['Twitter for Android'])]\n",
    "\n",
    "sns.distplot(iphone_filter['hour'],color=\"b\",hist=False,label='iPhone')\n",
    "sns.distplot(android_filter['hour'],color=\"r\",hist=False,label='Android')\n",
    "\n",
    "plt.title('Distributions of Tweet Hours for Different Tweet Sources')\n",
    "plt.legend();"
   ]
  },
  {
   "cell_type": "markdown",
   "metadata": {},
   "source": [
    "## Part 3: Sentiment Analysis\n",
    "Using the words in Trump's tweets to calculate a measure of the sentiment of the tweet."
   ]
  },
  {
   "cell_type": "code",
   "execution_count": 105,
   "metadata": {},
   "outputs": [
    {
     "name": "stdout",
     "output_type": "stream",
     "text": [
      "$:\t-1.5\t0.80623\t[-1, -1, -1, -1, -3, -1, -3, -1, -2, -1]\n",
      "%)\t-0.4\t1.0198\t[-1, 0, -1, 0, 0, -2, -1, 2, -1, 0]\n",
      "%-)\t-1.5\t1.43178\t[-2, 0, -2, -2, -1, 2, -2, -3, -2, -3]\n",
      "&-:\t-0.4\t1.42829\t[-3, -1, 0, 0, -1, -1, -1, 2, -1, 2]\n",
      "&:\t-0.7\t0.64031\t[0, -1, -1, -1, 1, -1, -1, -1, -1, -1]\n",
      "( '}{' )\t1.6\t0.66332\t[1, 2, 2, 1, 1, 2, 2, 1, 3, 1]\n",
      "(%\t-0.9\t0.9434\t[0, 0, 1, -1, -1, -1, -2, -2, -1, -2]\n",
      "('-:\t2.2\t1.16619\t[4, 1, 4, 3, 1, 2, 3, 1, 2, 1]\n",
      "(':\t2.3\t0.9\t[1, 3, 3, 2, 2, 4, 2, 3, 1, 2]\n",
      "((-:\t2.1\t0.53852\t[2, 2, 2, 1, 2, 3, 2, 2, 3, 2]\n",
      "\n"
     ]
    }
   ],
   "source": [
    "#VADER lexicon gives the sentiment of individual words\n",
    "print(''.join(open(\"vader_lexicon.txt\").readlines()[:10]))"
   ]
  },
  {
   "cell_type": "code",
   "execution_count": 106,
   "metadata": {},
   "outputs": [
    {
     "data": {
      "text/html": [
       "<div>\n",
       "<style scoped>\n",
       "    .dataframe tbody tr th:only-of-type {\n",
       "        vertical-align: middle;\n",
       "    }\n",
       "\n",
       "    .dataframe tbody tr th {\n",
       "        vertical-align: top;\n",
       "    }\n",
       "\n",
       "    .dataframe thead th {\n",
       "        text-align: right;\n",
       "    }\n",
       "</style>\n",
       "<table border=\"1\" class=\"dataframe\">\n",
       "  <thead>\n",
       "    <tr style=\"text-align: right;\">\n",
       "      <th></th>\n",
       "      <th>polarity</th>\n",
       "    </tr>\n",
       "    <tr>\n",
       "      <th>0</th>\n",
       "      <th></th>\n",
       "    </tr>\n",
       "  </thead>\n",
       "  <tbody>\n",
       "    <tr>\n",
       "      <th>$:</th>\n",
       "      <td>-1.5</td>\n",
       "    </tr>\n",
       "    <tr>\n",
       "      <th>%)</th>\n",
       "      <td>-0.4</td>\n",
       "    </tr>\n",
       "    <tr>\n",
       "      <th>%-)</th>\n",
       "      <td>-1.5</td>\n",
       "    </tr>\n",
       "    <tr>\n",
       "      <th>&amp;-:</th>\n",
       "      <td>-0.4</td>\n",
       "    </tr>\n",
       "    <tr>\n",
       "      <th>&amp;:</th>\n",
       "      <td>-0.7</td>\n",
       "    </tr>\n",
       "  </tbody>\n",
       "</table>\n",
       "</div>"
      ],
      "text/plain": [
       "     polarity\n",
       "0            \n",
       "$:       -1.5\n",
       "%)       -0.4\n",
       "%-)      -1.5\n",
       "&-:      -0.4\n",
       "&:       -0.7"
      ]
     },
     "execution_count": 106,
     "metadata": {},
     "output_type": "execute_result"
    }
   ],
   "source": [
    "#Read vader_lexicon.txt into a DataFrame called sent\n",
    "\n",
    "#index of df is words in the lexicon\n",
    "#polarity is polarity of each word\n",
    "\n",
    "sent = pd.read_csv('vader_lexicon.txt', sep=\"\\t\", header=None)\n",
    "sent = sent.iloc[:,0:2]\n",
    "sent.columns = ['0','polarity'] \n",
    "sent.set_index('0', inplace=True)\n",
    "sent.head()"
   ]
  },
  {
   "cell_type": "code",
   "execution_count": 107,
   "metadata": {},
   "outputs": [
    {
     "data": {
      "text/html": [
       "<div>\n",
       "<style scoped>\n",
       "    .dataframe tbody tr th:only-of-type {\n",
       "        vertical-align: middle;\n",
       "    }\n",
       "\n",
       "    .dataframe tbody tr th {\n",
       "        vertical-align: top;\n",
       "    }\n",
       "\n",
       "    .dataframe thead th {\n",
       "        text-align: right;\n",
       "    }\n",
       "</style>\n",
       "<table border=\"1\" class=\"dataframe\">\n",
       "  <thead>\n",
       "    <tr style=\"text-align: right;\">\n",
       "      <th></th>\n",
       "      <th>time</th>\n",
       "      <th>source</th>\n",
       "      <th>text</th>\n",
       "      <th>retweet_count</th>\n",
       "      <th>year</th>\n",
       "      <th>est_time</th>\n",
       "      <th>hour</th>\n",
       "    </tr>\n",
       "    <tr>\n",
       "      <th>id</th>\n",
       "      <th></th>\n",
       "      <th></th>\n",
       "      <th></th>\n",
       "      <th></th>\n",
       "      <th></th>\n",
       "      <th></th>\n",
       "      <th></th>\n",
       "    </tr>\n",
       "  </thead>\n",
       "  <tbody>\n",
       "    <tr>\n",
       "      <th>786204978629185536</th>\n",
       "      <td>2016-10-12 14:00:48+00:00</td>\n",
       "      <td>Twitter for iPhone</td>\n",
       "      <td>pay to play politics. \\n#crookedhillary https://t.co/wjsl8itvvk</td>\n",
       "      <td>24915</td>\n",
       "      <td>2016.778689</td>\n",
       "      <td>2016-10-12 09:00:48-05:00</td>\n",
       "      <td>9.013333</td>\n",
       "    </tr>\n",
       "    <tr>\n",
       "      <th>786201435486781440</th>\n",
       "      <td>2016-10-12 13:46:43+00:00</td>\n",
       "      <td>Twitter for iPhone</td>\n",
       "      <td>very little pick-up by the dishonest media of incredible information provided by wikileaks. so dishonest! rigged system!</td>\n",
       "      <td>22609</td>\n",
       "      <td>2016.778689</td>\n",
       "      <td>2016-10-12 08:46:43-05:00</td>\n",
       "      <td>8.778611</td>\n",
       "    </tr>\n",
       "    <tr>\n",
       "      <th>786189446274248704</th>\n",
       "      <td>2016-10-12 12:59:05+00:00</td>\n",
       "      <td>Twitter for Android</td>\n",
       "      <td>crooked hillary clinton likes to talk about the things she will do but she has been there for 30 years - why didn't she do them?</td>\n",
       "      <td>18329</td>\n",
       "      <td>2016.778689</td>\n",
       "      <td>2016-10-12 07:59:05-05:00</td>\n",
       "      <td>7.984722</td>\n",
       "    </tr>\n",
       "    <tr>\n",
       "      <th>786054986534969344</th>\n",
       "      <td>2016-10-12 04:04:47+00:00</td>\n",
       "      <td>Twitter for iPhone</td>\n",
       "      <td>thank you florida- a movement that has never been seen before and will never be seen again. lets get out &amp;amp;… https://t.co/t9xm9wfdzi</td>\n",
       "      <td>18789</td>\n",
       "      <td>2016.778689</td>\n",
       "      <td>2016-10-11 23:04:47-05:00</td>\n",
       "      <td>23.079722</td>\n",
       "    </tr>\n",
       "    <tr>\n",
       "      <th>786007502639038464</th>\n",
       "      <td>2016-10-12 00:56:06+00:00</td>\n",
       "      <td>Twitter for iPhone</td>\n",
       "      <td>join me thursday in florida &amp;amp; ohio!\\nwest palm beach, fl at noon:\\nhttps://t.co/jwbznqhxg9\\ncincinnati, oh this 7:30pm:\\nhttps://t.co/5w2uhalpix</td>\n",
       "      <td>7761</td>\n",
       "      <td>2016.778689</td>\n",
       "      <td>2016-10-11 19:56:06-05:00</td>\n",
       "      <td>19.935000</td>\n",
       "    </tr>\n",
       "  </tbody>\n",
       "</table>\n",
       "</div>"
      ],
      "text/plain": [
       "                                        time               source  \\\n",
       "id                                                                  \n",
       "786204978629185536 2016-10-12 14:00:48+00:00   Twitter for iPhone   \n",
       "786201435486781440 2016-10-12 13:46:43+00:00   Twitter for iPhone   \n",
       "786189446274248704 2016-10-12 12:59:05+00:00  Twitter for Android   \n",
       "786054986534969344 2016-10-12 04:04:47+00:00   Twitter for iPhone   \n",
       "786007502639038464 2016-10-12 00:56:06+00:00   Twitter for iPhone   \n",
       "\n",
       "                                                                                                                                                                    text  \\\n",
       "id                                                                                                                                                                         \n",
       "786204978629185536                                                                                       pay to play politics. \\n#crookedhillary https://t.co/wjsl8itvvk   \n",
       "786201435486781440                              very little pick-up by the dishonest media of incredible information provided by wikileaks. so dishonest! rigged system!   \n",
       "786189446274248704                      crooked hillary clinton likes to talk about the things she will do but she has been there for 30 years - why didn't she do them?   \n",
       "786054986534969344               thank you florida- a movement that has never been seen before and will never be seen again. lets get out &amp;… https://t.co/t9xm9wfdzi   \n",
       "786007502639038464  join me thursday in florida &amp; ohio!\\nwest palm beach, fl at noon:\\nhttps://t.co/jwbznqhxg9\\ncincinnati, oh this 7:30pm:\\nhttps://t.co/5w2uhalpix   \n",
       "\n",
       "                    retweet_count         year                  est_time  \\\n",
       "id                                                                         \n",
       "786204978629185536          24915  2016.778689 2016-10-12 09:00:48-05:00   \n",
       "786201435486781440          22609  2016.778689 2016-10-12 08:46:43-05:00   \n",
       "786189446274248704          18329  2016.778689 2016-10-12 07:59:05-05:00   \n",
       "786054986534969344          18789  2016.778689 2016-10-11 23:04:47-05:00   \n",
       "786007502639038464           7761  2016.778689 2016-10-11 19:56:06-05:00   \n",
       "\n",
       "                         hour  \n",
       "id                             \n",
       "786204978629185536   9.013333  \n",
       "786201435486781440   8.778611  \n",
       "786189446274248704   7.984722  \n",
       "786054986534969344  23.079722  \n",
       "786007502639038464  19.935000  "
      ]
     },
     "execution_count": 107,
     "metadata": {},
     "output_type": "execute_result"
    }
   ],
   "source": [
    "#find the sentiment of each word for each tweet\n",
    "#then calculate sentiment of each tweet by taking the sum of the sentiments of its words\n",
    "trump['text'] = trump['text'].str.lower().to_frame()\n",
    "trump.head()"
   ]
  },
  {
   "cell_type": "code",
   "execution_count": 108,
   "metadata": {},
   "outputs": [],
   "source": [
    "#Remove punctuation \n",
    "punct_re = r'[^\\w\\s]'\n",
    "trump['no_punc'] = trump['text'].str.replace(punct_re, ' ')"
   ]
  },
  {
   "cell_type": "code",
   "execution_count": 109,
   "metadata": {},
   "outputs": [
    {
     "data": {
      "text/html": [
       "<div>\n",
       "<style scoped>\n",
       "    .dataframe tbody tr th:only-of-type {\n",
       "        vertical-align: middle;\n",
       "    }\n",
       "\n",
       "    .dataframe tbody tr th {\n",
       "        vertical-align: top;\n",
       "    }\n",
       "\n",
       "    .dataframe thead th {\n",
       "        text-align: right;\n",
       "    }\n",
       "</style>\n",
       "<table border=\"1\" class=\"dataframe\">\n",
       "  <thead>\n",
       "    <tr style=\"text-align: right;\">\n",
       "      <th></th>\n",
       "      <th>num</th>\n",
       "      <th>word</th>\n",
       "    </tr>\n",
       "    <tr>\n",
       "      <th>id</th>\n",
       "      <th></th>\n",
       "      <th></th>\n",
       "    </tr>\n",
       "  </thead>\n",
       "  <tbody>\n",
       "    <tr>\n",
       "      <th>786204978629185536</th>\n",
       "      <td>0</td>\n",
       "      <td>pay</td>\n",
       "    </tr>\n",
       "    <tr>\n",
       "      <th>786204978629185536</th>\n",
       "      <td>1</td>\n",
       "      <td>to</td>\n",
       "    </tr>\n",
       "    <tr>\n",
       "      <th>786204978629185536</th>\n",
       "      <td>2</td>\n",
       "      <td>play</td>\n",
       "    </tr>\n",
       "    <tr>\n",
       "      <th>786204978629185536</th>\n",
       "      <td>3</td>\n",
       "      <td>politics</td>\n",
       "    </tr>\n",
       "    <tr>\n",
       "      <th>786204978629185536</th>\n",
       "      <td>4</td>\n",
       "      <td>crookedhillary</td>\n",
       "    </tr>\n",
       "  </tbody>\n",
       "</table>\n",
       "</div>"
      ],
      "text/plain": [
       "                    num            word\n",
       "id                                     \n",
       "786204978629185536    0             pay\n",
       "786204978629185536    1              to\n",
       "786204978629185536    2            play\n",
       "786204978629185536    3        politics\n",
       "786204978629185536    4  crookedhillary"
      ]
     },
     "execution_count": 109,
     "metadata": {},
     "output_type": "execute_result"
    }
   ],
   "source": [
    "#Convert the tweets into 'tidy format' to make the sentiments easier to calculate\n",
    "tidy_format = trump['no_punc'].str.split(expand=True)\n",
    "tidy_format = tidy_format.stack().to_frame().reset_index().set_index('id')\n",
    "tidy_format.columns = ['num','word'] \n",
    "tidy_format.head()"
   ]
  },
  {
   "cell_type": "code",
   "execution_count": 110,
   "metadata": {},
   "outputs": [],
   "source": [
    "#Add polarity column to the trump table\n",
    "sent = sent.reset_index().rename(columns = {'0':'word'}).set_index('word')\n",
    "\n",
    "polar = tidy_format.merge(sent,left_on='word',right_index = True,how='left').reset_index().groupby('id').agg(np.sum).sort_index()\n",
    "trump['polarity'] = polar['polarity']"
   ]
  },
  {
   "cell_type": "code",
   "execution_count": 111,
   "metadata": {},
   "outputs": [
    {
     "name": "stdout",
     "output_type": "stream",
     "text": [
      "Most negative tweets:\n",
      "\n",
      "   the trump portrait of an unsustainable border crisis is dead on. “in the last two years, ice officers made 266,000 arrests of aliens with criminal records, including those charged or convicted of 100,000 assaults, 30,000 sex crimes &amp; 4000 violent killings.” america’s southern....\n",
      "\n",
      "   it is outrageous that poisonous synthetic heroin fentanyl comes pouring into the u.s. postal system from china. we can, and must, end this now! the senate should pass the stop act – and firmly stop this poison from killing our children and destroying our country. no more delay!\n",
      "\n",
      "   the rigged russian witch hunt goes on and on as the “originators and founders” of this scam continue to be fired and demoted for their corrupt and illegal activity. all credibility is gone from this terrible hoax, and much more will be lost as it proceeds. no collusion!\n",
      "\n",
      "   ...this evil anti-semitic attack is an assault on humanity. it will take all of us working together to extract the poison of anti-semitism from our world. we must unite to conquer hate.\n",
      "\n",
      "   james comey is a proven leaker &amp; liar. virtually everyone in washington thought he should be fired for the terrible job he did-until he was, in fact, fired. he leaked classified information, for which he should be prosecuted. he lied to congress under oath. he is a weak and.....\n"
     ]
    }
   ],
   "source": [
    "#Use of VADER to find most negative tweets\n",
    "\n",
    "print('Most negative tweets:')\n",
    "for t in trump.sort_values('polarity').head()['text']:\n",
    "    print('\\n  ', t)"
   ]
  },
  {
   "cell_type": "code",
   "execution_count": 112,
   "metadata": {},
   "outputs": [
    {
     "name": "stdout",
     "output_type": "stream",
     "text": [
      "Most positive tweets:\n",
      "\n",
      "   congratulations to patrick reed on his great and courageous masters win! when patrick had his amazing win at doral 5 years ago, people saw his great talent, and a bright future ahead. now he is the masters champion!\n",
      "\n",
      "   congratulations to a truly great football team, the clemson tigers, on an incredible win last night against a powerful alabama team. a big win also for the great state of south carolina. look forward to seeing the team, and their brilliant coach, for the second time at the w.h.\n",
      "\n",
      "   my supporters are the smartest, strongest, most hard working and most loyal that we have seen in our countries history. it is a beautiful thing to watch as we win elections and gather support from all over the country. as we get stronger, so does our country. best numbers ever!\n",
      "\n",
      "   thank you to all of my great supporters, really big progress being made. other countries wanting to fix crazy trade deals. economy is roaring. supreme court pick getting great reviews. new poll says trump, at over 90%, is the most popular republican in history of the party. wow!\n",
      "\n",
      "   thank you, @wvgovernor jim justice, for that warm introduction. tonight, it was my great honor to attend the “greenbrier classic – salute to service dinner” in west virginia! god bless our veterans. god bless america - and happy independence day to all! https://t.co/v35qvcn8m6\n"
     ]
    }
   ],
   "source": [
    "#Use of VADER to find most positive tweets\n",
    "\n",
    "print('Most positive tweets:')\n",
    "for t in trump.sort_values('polarity', ascending=False).head()['text']:\n",
    "    print('\\n  ', t)"
   ]
  },
  {
   "cell_type": "markdown",
   "metadata": {},
   "source": [
    "### Tweets Containing NY Times and Fox"
   ]
  },
  {
   "cell_type": "code",
   "execution_count": 113,
   "metadata": {},
   "outputs": [
    {
     "data": {
      "image/png": "[encoded data removed]",
      "text/plain": [
       "<Figure size 432x288 with 1 Axes>"
      ]
     },
     "metadata": {},
     "output_type": "display_data"
    }
   ],
   "source": [
    "ny = tidy_format[tidy_format['word'].str.contains('nytimes')].index.to_list()\n",
    "fox = tidy_format[tidy_format['word'].str.contains('fox')].index.to_list()\n",
    "\n",
    "\n",
    "ny_polar =  trump.loc[ny,:]['polarity']\n",
    "fox_polar = trump.loc[fox,:]['polarity']\n",
    "\n",
    "\n",
    "sns.distplot(ny_polar, label='NY Times')\n",
    "sns.distplot(fox_polar, label='Fox')\n",
    "plt.ylabel('% of Tweets')\n",
    "plt.title('Distribution of Tweet Sentiments for Tweets Containg NY Times and Fox')\n",
    "plt.legend();"
   ]
  },
  {
   "cell_type": "code",
   "execution_count": null,
   "metadata": {},
   "outputs": [],
   "source": []
  }
 ],
 "metadata": {
  "kernelspec": {
   "display_name": "Python 3",
   "language": "python",
   "name": "python3"
  },
  "language_info": {
   "codemirror_mode": {
    "name": "ipython",
    "version": 3
   },
   "file_extension": ".py",
   "mimetype": "text/x-python",
   "name": "python",
   "nbconvert_exporter": "python",
   "pygments_lexer": "ipython3",
   "version": "3.8.6"
  }
 },
 "nbformat": 4,
 "nbformat_minor": 4
}
